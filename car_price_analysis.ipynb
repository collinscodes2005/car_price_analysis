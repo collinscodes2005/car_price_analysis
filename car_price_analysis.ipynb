{
 "cells": [
  {
   "cell_type": "code",
   "execution_count": 63,
   "id": "2e873b8c",
   "metadata": {
    "execution": {
     "iopub.execute_input": "2022-09-07T15:05:21.874Z",
     "iopub.status.busy": "2022-09-07T15:05:21.847Z",
     "iopub.status.idle": "2022-09-07T15:05:21.922Z",
     "shell.execute_reply": "2022-09-07T15:05:21.948Z"
    },
    "jupyter": {
     "outputs_hidden": false,
     "source_hidden": false
    }
   },
   "outputs": [],
   "source": [
    "#importing the libraries required for my program\n",
    "import pandas as pd\n",
    "import numpy as np\n",
    "\n",
    "import matplotlib.pyplot as plt \n",
    "import seaborn as sns \n"
   ]
  },
  {
   "cell_type": "markdown",
   "id": "f43fe5b6",
   "metadata": {},
   "source": [
    "READING THE DATASET USING PANDAS "
   ]
  },
  {
   "cell_type": "code",
   "execution_count": 64,
   "id": "16979342",
   "metadata": {
    "execution": {
     "iopub.execute_input": "2022-09-07T15:05:24.204Z",
     "iopub.status.busy": "2022-09-07T15:05:24.181Z",
     "iopub.status.idle": "2022-09-07T15:05:24.246Z",
     "shell.execute_reply": "2022-09-07T15:05:24.831Z"
    },
    "jupyter": {
     "outputs_hidden": false,
     "source_hidden": false
    }
   },
   "outputs": [],
   "source": [
    "#reading the dataset using pandas\n",
    "#dataset of car_prices gotten from kaggle \n",
    "data = pd.read_csv('user_car_price_data.csv')"
   ]
  },
  {
   "cell_type": "code",
   "execution_count": 65,
   "id": "f348f452",
   "metadata": {
    "execution": {
     "iopub.execute_input": "2022-09-07T15:05:25.212Z",
     "iopub.status.busy": "2022-09-07T15:05:25.191Z",
     "iopub.status.idle": "2022-09-07T15:05:25.300Z",
     "shell.execute_reply": "2022-09-07T15:05:24.847Z"
    },
    "jupyter": {
     "outputs_hidden": false,
     "source_hidden": false
    }
   },
   "outputs": [
    {
     "data": {
      "text/html": [
       "<div>\n",
       "<style scoped>\n",
       "    .dataframe tbody tr th:only-of-type {\n",
       "        vertical-align: middle;\n",
       "    }\n",
       "\n",
       "    .dataframe tbody tr th {\n",
       "        vertical-align: top;\n",
       "    }\n",
       "\n",
       "    .dataframe thead th {\n",
       "        text-align: right;\n",
       "    }\n",
       "</style>\n",
       "<table border=\"1\" class=\"dataframe\">\n",
       "  <thead>\n",
       "    <tr style=\"text-align: right;\">\n",
       "      <th></th>\n",
       "      <th>Unnamed: 0</th>\n",
       "      <th>year</th>\n",
       "      <th>brand</th>\n",
       "      <th>price</th>\n",
       "      <th>ratings</th>\n",
       "      <th>miles</th>\n",
       "      <th>color</th>\n",
       "      <th>drive</th>\n",
       "      <th>transmission</th>\n",
       "      <th>ford</th>\n",
       "      <th>...</th>\n",
       "      <th>kia</th>\n",
       "      <th>buick</th>\n",
       "      <th>fiat</th>\n",
       "      <th>volvo</th>\n",
       "      <th>mit</th>\n",
       "      <th>jeep</th>\n",
       "      <th>gmc</th>\n",
       "      <th>inf</th>\n",
       "      <th>lex</th>\n",
       "      <th>por</th>\n",
       "    </tr>\n",
       "  </thead>\n",
       "  <tbody>\n",
       "    <tr>\n",
       "      <th>0</th>\n",
       "      <td>0</td>\n",
       "      <td>2005</td>\n",
       "      <td>Ford</td>\n",
       "      <td>5988</td>\n",
       "      <td>4.7</td>\n",
       "      <td>84924</td>\n",
       "      <td>Silver</td>\n",
       "      <td>RWD</td>\n",
       "      <td>Automatic</td>\n",
       "      <td>1.0</td>\n",
       "      <td>...</td>\n",
       "      <td>NaN</td>\n",
       "      <td>NaN</td>\n",
       "      <td>NaN</td>\n",
       "      <td>NaN</td>\n",
       "      <td>NaN</td>\n",
       "      <td>NaN</td>\n",
       "      <td>NaN</td>\n",
       "      <td>NaN</td>\n",
       "      <td>NaN</td>\n",
       "      <td>NaN</td>\n",
       "    </tr>\n",
       "    <tr>\n",
       "      <th>1</th>\n",
       "      <td>1</td>\n",
       "      <td>2017</td>\n",
       "      <td>Ford</td>\n",
       "      <td>11999</td>\n",
       "      <td>4.7</td>\n",
       "      <td>39735</td>\n",
       "      <td>Silver</td>\n",
       "      <td>RWD</td>\n",
       "      <td>Automatic</td>\n",
       "      <td>1.0</td>\n",
       "      <td>...</td>\n",
       "      <td>NaN</td>\n",
       "      <td>NaN</td>\n",
       "      <td>NaN</td>\n",
       "      <td>NaN</td>\n",
       "      <td>NaN</td>\n",
       "      <td>NaN</td>\n",
       "      <td>NaN</td>\n",
       "      <td>NaN</td>\n",
       "      <td>NaN</td>\n",
       "      <td>NaN</td>\n",
       "    </tr>\n",
       "    <tr>\n",
       "      <th>2</th>\n",
       "      <td>2</td>\n",
       "      <td>2016</td>\n",
       "      <td>Ford</td>\n",
       "      <td>32988</td>\n",
       "      <td>4.7</td>\n",
       "      <td>31726</td>\n",
       "      <td>Silver</td>\n",
       "      <td>RWD</td>\n",
       "      <td>Automatic</td>\n",
       "      <td>1.0</td>\n",
       "      <td>...</td>\n",
       "      <td>NaN</td>\n",
       "      <td>NaN</td>\n",
       "      <td>NaN</td>\n",
       "      <td>NaN</td>\n",
       "      <td>NaN</td>\n",
       "      <td>NaN</td>\n",
       "      <td>NaN</td>\n",
       "      <td>NaN</td>\n",
       "      <td>NaN</td>\n",
       "      <td>NaN</td>\n",
       "    </tr>\n",
       "    <tr>\n",
       "      <th>3</th>\n",
       "      <td>3</td>\n",
       "      <td>2018</td>\n",
       "      <td>Ford</td>\n",
       "      <td>15590</td>\n",
       "      <td>4.7</td>\n",
       "      <td>25239</td>\n",
       "      <td>Silver</td>\n",
       "      <td>RWD</td>\n",
       "      <td>Automatic</td>\n",
       "      <td>1.0</td>\n",
       "      <td>...</td>\n",
       "      <td>NaN</td>\n",
       "      <td>NaN</td>\n",
       "      <td>NaN</td>\n",
       "      <td>NaN</td>\n",
       "      <td>NaN</td>\n",
       "      <td>NaN</td>\n",
       "      <td>NaN</td>\n",
       "      <td>NaN</td>\n",
       "      <td>NaN</td>\n",
       "      <td>NaN</td>\n",
       "    </tr>\n",
       "    <tr>\n",
       "      <th>4</th>\n",
       "      <td>4</td>\n",
       "      <td>2016</td>\n",
       "      <td>Ford</td>\n",
       "      <td>14282</td>\n",
       "      <td>4.7</td>\n",
       "      <td>66419</td>\n",
       "      <td>Silver</td>\n",
       "      <td>RWD</td>\n",
       "      <td>Automatic</td>\n",
       "      <td>1.0</td>\n",
       "      <td>...</td>\n",
       "      <td>NaN</td>\n",
       "      <td>NaN</td>\n",
       "      <td>NaN</td>\n",
       "      <td>NaN</td>\n",
       "      <td>NaN</td>\n",
       "      <td>NaN</td>\n",
       "      <td>NaN</td>\n",
       "      <td>NaN</td>\n",
       "      <td>NaN</td>\n",
       "      <td>NaN</td>\n",
       "    </tr>\n",
       "    <tr>\n",
       "      <th>...</th>\n",
       "      <td>...</td>\n",
       "      <td>...</td>\n",
       "      <td>...</td>\n",
       "      <td>...</td>\n",
       "      <td>...</td>\n",
       "      <td>...</td>\n",
       "      <td>...</td>\n",
       "      <td>...</td>\n",
       "      <td>...</td>\n",
       "      <td>...</td>\n",
       "      <td>...</td>\n",
       "      <td>...</td>\n",
       "      <td>...</td>\n",
       "      <td>...</td>\n",
       "      <td>...</td>\n",
       "      <td>...</td>\n",
       "      <td>...</td>\n",
       "      <td>...</td>\n",
       "      <td>...</td>\n",
       "      <td>...</td>\n",
       "      <td>...</td>\n",
       "    </tr>\n",
       "    <tr>\n",
       "      <th>95</th>\n",
       "      <td>95</td>\n",
       "      <td>2017</td>\n",
       "      <td>Ford</td>\n",
       "      <td>16490</td>\n",
       "      <td>4.7</td>\n",
       "      <td>2718</td>\n",
       "      <td>Silver</td>\n",
       "      <td>RWD</td>\n",
       "      <td>Automatic</td>\n",
       "      <td>1.0</td>\n",
       "      <td>...</td>\n",
       "      <td>NaN</td>\n",
       "      <td>NaN</td>\n",
       "      <td>NaN</td>\n",
       "      <td>NaN</td>\n",
       "      <td>NaN</td>\n",
       "      <td>NaN</td>\n",
       "      <td>NaN</td>\n",
       "      <td>NaN</td>\n",
       "      <td>NaN</td>\n",
       "      <td>NaN</td>\n",
       "    </tr>\n",
       "    <tr>\n",
       "      <th>96</th>\n",
       "      <td>96</td>\n",
       "      <td>2019</td>\n",
       "      <td>Ford</td>\n",
       "      <td>18490</td>\n",
       "      <td>4.7</td>\n",
       "      <td>5830</td>\n",
       "      <td>Silver</td>\n",
       "      <td>RWD</td>\n",
       "      <td>Automatic</td>\n",
       "      <td>1.0</td>\n",
       "      <td>...</td>\n",
       "      <td>NaN</td>\n",
       "      <td>NaN</td>\n",
       "      <td>NaN</td>\n",
       "      <td>NaN</td>\n",
       "      <td>NaN</td>\n",
       "      <td>NaN</td>\n",
       "      <td>NaN</td>\n",
       "      <td>NaN</td>\n",
       "      <td>NaN</td>\n",
       "      <td>NaN</td>\n",
       "    </tr>\n",
       "    <tr>\n",
       "      <th>97</th>\n",
       "      <td>97</td>\n",
       "      <td>2013</td>\n",
       "      <td>Ford</td>\n",
       "      <td>7988</td>\n",
       "      <td>4.7</td>\n",
       "      <td>134025</td>\n",
       "      <td>Silver</td>\n",
       "      <td>RWD</td>\n",
       "      <td>Automatic</td>\n",
       "      <td>1.0</td>\n",
       "      <td>...</td>\n",
       "      <td>NaN</td>\n",
       "      <td>NaN</td>\n",
       "      <td>NaN</td>\n",
       "      <td>NaN</td>\n",
       "      <td>NaN</td>\n",
       "      <td>NaN</td>\n",
       "      <td>NaN</td>\n",
       "      <td>NaN</td>\n",
       "      <td>NaN</td>\n",
       "      <td>NaN</td>\n",
       "    </tr>\n",
       "    <tr>\n",
       "      <th>98</th>\n",
       "      <td>98</td>\n",
       "      <td>2020</td>\n",
       "      <td>Ford</td>\n",
       "      <td>23480</td>\n",
       "      <td>4.7</td>\n",
       "      <td>2909</td>\n",
       "      <td>Silver</td>\n",
       "      <td>RWD</td>\n",
       "      <td>Automatic</td>\n",
       "      <td>1.0</td>\n",
       "      <td>...</td>\n",
       "      <td>NaN</td>\n",
       "      <td>NaN</td>\n",
       "      <td>NaN</td>\n",
       "      <td>NaN</td>\n",
       "      <td>NaN</td>\n",
       "      <td>NaN</td>\n",
       "      <td>NaN</td>\n",
       "      <td>NaN</td>\n",
       "      <td>NaN</td>\n",
       "      <td>NaN</td>\n",
       "    </tr>\n",
       "    <tr>\n",
       "      <th>99</th>\n",
       "      <td>99</td>\n",
       "      <td>2005</td>\n",
       "      <td>Ford</td>\n",
       "      <td>14120</td>\n",
       "      <td>4.7</td>\n",
       "      <td>176527</td>\n",
       "      <td>Silver</td>\n",
       "      <td>RWD</td>\n",
       "      <td>Automatic</td>\n",
       "      <td>1.0</td>\n",
       "      <td>...</td>\n",
       "      <td>NaN</td>\n",
       "      <td>NaN</td>\n",
       "      <td>NaN</td>\n",
       "      <td>NaN</td>\n",
       "      <td>NaN</td>\n",
       "      <td>NaN</td>\n",
       "      <td>NaN</td>\n",
       "      <td>NaN</td>\n",
       "      <td>NaN</td>\n",
       "      <td>NaN</td>\n",
       "    </tr>\n",
       "  </tbody>\n",
       "</table>\n",
       "<p>100 rows × 33 columns</p>\n",
       "</div>"
      ],
      "text/plain": [
       "    Unnamed: 0  year brand  price  ratings   miles   color drive transmission  \\\n",
       "0            0  2005  Ford   5988      4.7   84924  Silver   RWD    Automatic   \n",
       "1            1  2017  Ford  11999      4.7   39735  Silver   RWD    Automatic   \n",
       "2            2  2016  Ford  32988      4.7   31726  Silver   RWD    Automatic   \n",
       "3            3  2018  Ford  15590      4.7   25239  Silver   RWD    Automatic   \n",
       "4            4  2016  Ford  14282      4.7   66419  Silver   RWD    Automatic   \n",
       "..         ...   ...   ...    ...      ...     ...     ...   ...          ...   \n",
       "95          95  2017  Ford  16490      4.7    2718  Silver   RWD    Automatic   \n",
       "96          96  2019  Ford  18490      4.7    5830  Silver   RWD    Automatic   \n",
       "97          97  2013  Ford   7988      4.7  134025  Silver   RWD    Automatic   \n",
       "98          98  2020  Ford  23480      4.7    2909  Silver   RWD    Automatic   \n",
       "99          99  2005  Ford  14120      4.7  176527  Silver   RWD    Automatic   \n",
       "\n",
       "    ford  ...  kia  buick  fiat  volvo  mit  jeep  gmc  inf  lex  por  \n",
       "0    1.0  ...  NaN    NaN   NaN    NaN  NaN   NaN  NaN  NaN  NaN  NaN  \n",
       "1    1.0  ...  NaN    NaN   NaN    NaN  NaN   NaN  NaN  NaN  NaN  NaN  \n",
       "2    1.0  ...  NaN    NaN   NaN    NaN  NaN   NaN  NaN  NaN  NaN  NaN  \n",
       "3    1.0  ...  NaN    NaN   NaN    NaN  NaN   NaN  NaN  NaN  NaN  NaN  \n",
       "4    1.0  ...  NaN    NaN   NaN    NaN  NaN   NaN  NaN  NaN  NaN  NaN  \n",
       "..   ...  ...  ...    ...   ...    ...  ...   ...  ...  ...  ...  ...  \n",
       "95   1.0  ...  NaN    NaN   NaN    NaN  NaN   NaN  NaN  NaN  NaN  NaN  \n",
       "96   1.0  ...  NaN    NaN   NaN    NaN  NaN   NaN  NaN  NaN  NaN  NaN  \n",
       "97   1.0  ...  NaN    NaN   NaN    NaN  NaN   NaN  NaN  NaN  NaN  NaN  \n",
       "98   1.0  ...  NaN    NaN   NaN    NaN  NaN   NaN  NaN  NaN  NaN  NaN  \n",
       "99   1.0  ...  NaN    NaN   NaN    NaN  NaN   NaN  NaN  NaN  NaN  NaN  \n",
       "\n",
       "[100 rows x 33 columns]"
      ]
     },
     "execution_count": 65,
     "metadata": {},
     "output_type": "execute_result"
    }
   ],
   "source": [
    "data.head(100)\n"
   ]
  },
  {
   "cell_type": "code",
   "execution_count": 66,
   "id": "b4fd9b0e",
   "metadata": {
    "execution": {
     "iopub.execute_input": "2022-09-07T15:05:25.357Z",
     "iopub.status.busy": "2022-09-07T15:05:25.335Z",
     "iopub.status.idle": "2022-09-07T15:05:25.466Z",
     "shell.execute_reply": "2022-09-07T15:05:26.032Z"
    },
    "jupyter": {
     "outputs_hidden": false,
     "source_hidden": false
    }
   },
   "outputs": [
    {
     "data": {
      "text/html": [
       "<div>\n",
       "<style scoped>\n",
       "    .dataframe tbody tr th:only-of-type {\n",
       "        vertical-align: middle;\n",
       "    }\n",
       "\n",
       "    .dataframe tbody tr th {\n",
       "        vertical-align: top;\n",
       "    }\n",
       "\n",
       "    .dataframe thead th {\n",
       "        text-align: right;\n",
       "    }\n",
       "</style>\n",
       "<table border=\"1\" class=\"dataframe\">\n",
       "  <thead>\n",
       "    <tr style=\"text-align: right;\">\n",
       "      <th></th>\n",
       "      <th>Unnamed: 0</th>\n",
       "      <th>year</th>\n",
       "      <th>brand</th>\n",
       "      <th>price</th>\n",
       "      <th>ratings</th>\n",
       "      <th>miles</th>\n",
       "      <th>color</th>\n",
       "      <th>drive</th>\n",
       "      <th>transmission</th>\n",
       "      <th>ford</th>\n",
       "      <th>...</th>\n",
       "      <th>kia</th>\n",
       "      <th>buick</th>\n",
       "      <th>fiat</th>\n",
       "      <th>volvo</th>\n",
       "      <th>mit</th>\n",
       "      <th>jeep</th>\n",
       "      <th>gmc</th>\n",
       "      <th>inf</th>\n",
       "      <th>lex</th>\n",
       "      <th>por</th>\n",
       "    </tr>\n",
       "  </thead>\n",
       "  <tbody>\n",
       "    <tr>\n",
       "      <th>0</th>\n",
       "      <td>False</td>\n",
       "      <td>False</td>\n",
       "      <td>False</td>\n",
       "      <td>False</td>\n",
       "      <td>False</td>\n",
       "      <td>False</td>\n",
       "      <td>False</td>\n",
       "      <td>False</td>\n",
       "      <td>False</td>\n",
       "      <td>False</td>\n",
       "      <td>...</td>\n",
       "      <td>True</td>\n",
       "      <td>True</td>\n",
       "      <td>True</td>\n",
       "      <td>True</td>\n",
       "      <td>True</td>\n",
       "      <td>True</td>\n",
       "      <td>True</td>\n",
       "      <td>True</td>\n",
       "      <td>True</td>\n",
       "      <td>True</td>\n",
       "    </tr>\n",
       "    <tr>\n",
       "      <th>1</th>\n",
       "      <td>False</td>\n",
       "      <td>False</td>\n",
       "      <td>False</td>\n",
       "      <td>False</td>\n",
       "      <td>False</td>\n",
       "      <td>False</td>\n",
       "      <td>False</td>\n",
       "      <td>False</td>\n",
       "      <td>False</td>\n",
       "      <td>False</td>\n",
       "      <td>...</td>\n",
       "      <td>True</td>\n",
       "      <td>True</td>\n",
       "      <td>True</td>\n",
       "      <td>True</td>\n",
       "      <td>True</td>\n",
       "      <td>True</td>\n",
       "      <td>True</td>\n",
       "      <td>True</td>\n",
       "      <td>True</td>\n",
       "      <td>True</td>\n",
       "    </tr>\n",
       "    <tr>\n",
       "      <th>2</th>\n",
       "      <td>False</td>\n",
       "      <td>False</td>\n",
       "      <td>False</td>\n",
       "      <td>False</td>\n",
       "      <td>False</td>\n",
       "      <td>False</td>\n",
       "      <td>False</td>\n",
       "      <td>False</td>\n",
       "      <td>False</td>\n",
       "      <td>False</td>\n",
       "      <td>...</td>\n",
       "      <td>True</td>\n",
       "      <td>True</td>\n",
       "      <td>True</td>\n",
       "      <td>True</td>\n",
       "      <td>True</td>\n",
       "      <td>True</td>\n",
       "      <td>True</td>\n",
       "      <td>True</td>\n",
       "      <td>True</td>\n",
       "      <td>True</td>\n",
       "    </tr>\n",
       "    <tr>\n",
       "      <th>3</th>\n",
       "      <td>False</td>\n",
       "      <td>False</td>\n",
       "      <td>False</td>\n",
       "      <td>False</td>\n",
       "      <td>False</td>\n",
       "      <td>False</td>\n",
       "      <td>False</td>\n",
       "      <td>False</td>\n",
       "      <td>False</td>\n",
       "      <td>False</td>\n",
       "      <td>...</td>\n",
       "      <td>True</td>\n",
       "      <td>True</td>\n",
       "      <td>True</td>\n",
       "      <td>True</td>\n",
       "      <td>True</td>\n",
       "      <td>True</td>\n",
       "      <td>True</td>\n",
       "      <td>True</td>\n",
       "      <td>True</td>\n",
       "      <td>True</td>\n",
       "    </tr>\n",
       "    <tr>\n",
       "      <th>4</th>\n",
       "      <td>False</td>\n",
       "      <td>False</td>\n",
       "      <td>False</td>\n",
       "      <td>False</td>\n",
       "      <td>False</td>\n",
       "      <td>False</td>\n",
       "      <td>False</td>\n",
       "      <td>False</td>\n",
       "      <td>False</td>\n",
       "      <td>False</td>\n",
       "      <td>...</td>\n",
       "      <td>True</td>\n",
       "      <td>True</td>\n",
       "      <td>True</td>\n",
       "      <td>True</td>\n",
       "      <td>True</td>\n",
       "      <td>True</td>\n",
       "      <td>True</td>\n",
       "      <td>True</td>\n",
       "      <td>True</td>\n",
       "      <td>True</td>\n",
       "    </tr>\n",
       "    <tr>\n",
       "      <th>...</th>\n",
       "      <td>...</td>\n",
       "      <td>...</td>\n",
       "      <td>...</td>\n",
       "      <td>...</td>\n",
       "      <td>...</td>\n",
       "      <td>...</td>\n",
       "      <td>...</td>\n",
       "      <td>...</td>\n",
       "      <td>...</td>\n",
       "      <td>...</td>\n",
       "      <td>...</td>\n",
       "      <td>...</td>\n",
       "      <td>...</td>\n",
       "      <td>...</td>\n",
       "      <td>...</td>\n",
       "      <td>...</td>\n",
       "      <td>...</td>\n",
       "      <td>...</td>\n",
       "      <td>...</td>\n",
       "      <td>...</td>\n",
       "      <td>...</td>\n",
       "    </tr>\n",
       "    <tr>\n",
       "      <th>111274</th>\n",
       "      <td>False</td>\n",
       "      <td>False</td>\n",
       "      <td>False</td>\n",
       "      <td>False</td>\n",
       "      <td>False</td>\n",
       "      <td>False</td>\n",
       "      <td>False</td>\n",
       "      <td>False</td>\n",
       "      <td>False</td>\n",
       "      <td>True</td>\n",
       "      <td>...</td>\n",
       "      <td>True</td>\n",
       "      <td>True</td>\n",
       "      <td>True</td>\n",
       "      <td>True</td>\n",
       "      <td>True</td>\n",
       "      <td>True</td>\n",
       "      <td>True</td>\n",
       "      <td>True</td>\n",
       "      <td>True</td>\n",
       "      <td>False</td>\n",
       "    </tr>\n",
       "    <tr>\n",
       "      <th>111275</th>\n",
       "      <td>False</td>\n",
       "      <td>False</td>\n",
       "      <td>False</td>\n",
       "      <td>False</td>\n",
       "      <td>False</td>\n",
       "      <td>False</td>\n",
       "      <td>False</td>\n",
       "      <td>False</td>\n",
       "      <td>False</td>\n",
       "      <td>True</td>\n",
       "      <td>...</td>\n",
       "      <td>True</td>\n",
       "      <td>True</td>\n",
       "      <td>True</td>\n",
       "      <td>True</td>\n",
       "      <td>True</td>\n",
       "      <td>True</td>\n",
       "      <td>True</td>\n",
       "      <td>True</td>\n",
       "      <td>True</td>\n",
       "      <td>False</td>\n",
       "    </tr>\n",
       "    <tr>\n",
       "      <th>111276</th>\n",
       "      <td>False</td>\n",
       "      <td>False</td>\n",
       "      <td>False</td>\n",
       "      <td>False</td>\n",
       "      <td>False</td>\n",
       "      <td>False</td>\n",
       "      <td>False</td>\n",
       "      <td>False</td>\n",
       "      <td>False</td>\n",
       "      <td>True</td>\n",
       "      <td>...</td>\n",
       "      <td>True</td>\n",
       "      <td>True</td>\n",
       "      <td>True</td>\n",
       "      <td>True</td>\n",
       "      <td>True</td>\n",
       "      <td>True</td>\n",
       "      <td>True</td>\n",
       "      <td>True</td>\n",
       "      <td>True</td>\n",
       "      <td>False</td>\n",
       "    </tr>\n",
       "    <tr>\n",
       "      <th>111277</th>\n",
       "      <td>False</td>\n",
       "      <td>False</td>\n",
       "      <td>False</td>\n",
       "      <td>False</td>\n",
       "      <td>False</td>\n",
       "      <td>False</td>\n",
       "      <td>False</td>\n",
       "      <td>False</td>\n",
       "      <td>False</td>\n",
       "      <td>True</td>\n",
       "      <td>...</td>\n",
       "      <td>True</td>\n",
       "      <td>True</td>\n",
       "      <td>True</td>\n",
       "      <td>True</td>\n",
       "      <td>True</td>\n",
       "      <td>True</td>\n",
       "      <td>True</td>\n",
       "      <td>True</td>\n",
       "      <td>True</td>\n",
       "      <td>False</td>\n",
       "    </tr>\n",
       "    <tr>\n",
       "      <th>111278</th>\n",
       "      <td>False</td>\n",
       "      <td>False</td>\n",
       "      <td>False</td>\n",
       "      <td>False</td>\n",
       "      <td>False</td>\n",
       "      <td>False</td>\n",
       "      <td>False</td>\n",
       "      <td>False</td>\n",
       "      <td>False</td>\n",
       "      <td>True</td>\n",
       "      <td>...</td>\n",
       "      <td>True</td>\n",
       "      <td>True</td>\n",
       "      <td>True</td>\n",
       "      <td>True</td>\n",
       "      <td>True</td>\n",
       "      <td>True</td>\n",
       "      <td>True</td>\n",
       "      <td>True</td>\n",
       "      <td>True</td>\n",
       "      <td>False</td>\n",
       "    </tr>\n",
       "  </tbody>\n",
       "</table>\n",
       "<p>111279 rows × 33 columns</p>\n",
       "</div>"
      ],
      "text/plain": [
       "        Unnamed: 0   year  brand  price  ratings  miles  color  drive  \\\n",
       "0            False  False  False  False    False  False  False  False   \n",
       "1            False  False  False  False    False  False  False  False   \n",
       "2            False  False  False  False    False  False  False  False   \n",
       "3            False  False  False  False    False  False  False  False   \n",
       "4            False  False  False  False    False  False  False  False   \n",
       "...            ...    ...    ...    ...      ...    ...    ...    ...   \n",
       "111274       False  False  False  False    False  False  False  False   \n",
       "111275       False  False  False  False    False  False  False  False   \n",
       "111276       False  False  False  False    False  False  False  False   \n",
       "111277       False  False  False  False    False  False  False  False   \n",
       "111278       False  False  False  False    False  False  False  False   \n",
       "\n",
       "        transmission   ford  ...   kia  buick  fiat  volvo   mit  jeep   gmc  \\\n",
       "0              False  False  ...  True   True  True   True  True  True  True   \n",
       "1              False  False  ...  True   True  True   True  True  True  True   \n",
       "2              False  False  ...  True   True  True   True  True  True  True   \n",
       "3              False  False  ...  True   True  True   True  True  True  True   \n",
       "4              False  False  ...  True   True  True   True  True  True  True   \n",
       "...              ...    ...  ...   ...    ...   ...    ...   ...   ...   ...   \n",
       "111274         False   True  ...  True   True  True   True  True  True  True   \n",
       "111275         False   True  ...  True   True  True   True  True  True  True   \n",
       "111276         False   True  ...  True   True  True   True  True  True  True   \n",
       "111277         False   True  ...  True   True  True   True  True  True  True   \n",
       "111278         False   True  ...  True   True  True   True  True  True  True   \n",
       "\n",
       "         inf   lex    por  \n",
       "0       True  True   True  \n",
       "1       True  True   True  \n",
       "2       True  True   True  \n",
       "3       True  True   True  \n",
       "4       True  True   True  \n",
       "...      ...   ...    ...  \n",
       "111274  True  True  False  \n",
       "111275  True  True  False  \n",
       "111276  True  True  False  \n",
       "111277  True  True  False  \n",
       "111278  True  True  False  \n",
       "\n",
       "[111279 rows x 33 columns]"
      ]
     },
     "execution_count": 66,
     "metadata": {},
     "output_type": "execute_result"
    }
   ],
   "source": [
    "data.isnull()"
   ]
  },
  {
   "cell_type": "code",
   "execution_count": 67,
   "id": "31554b31",
   "metadata": {
    "execution": {
     "iopub.execute_input": "2022-09-07T15:05:26.884Z",
     "iopub.status.busy": "2022-09-07T15:05:26.861Z",
     "iopub.status.idle": "2022-09-07T15:05:26.925Z",
     "shell.execute_reply": "2022-09-07T15:05:26.060Z"
    },
    "jupyter": {
     "outputs_hidden": false,
     "source_hidden": false
    }
   },
   "outputs": [
    {
     "data": {
      "text/plain": [
       "Index(['Unnamed: 0', 'year', 'brand', 'price', 'ratings', 'miles', 'color',\n",
       "       'drive', 'transmission', 'ford', 'toyota', 'honda', 'chevrolet',\n",
       "       'dodge', 'nissan', 'mazda', 'hyundai', 'bmw', 'audi', 'vw', 'tesla',\n",
       "       'benz', 'acura', 'kia', 'buick', 'fiat', 'volvo', 'mit', 'jeep', 'gmc',\n",
       "       'inf', 'lex', 'por'],\n",
       "      dtype='object')"
      ]
     },
     "execution_count": 67,
     "metadata": {},
     "output_type": "execute_result"
    }
   ],
   "source": [
    "data.columns.unique()"
   ]
  },
  {
   "cell_type": "code",
   "execution_count": 68,
   "id": "cf8f23d0",
   "metadata": {
    "execution": {
     "iopub.execute_input": "2022-09-07T15:05:26.989Z",
     "iopub.status.busy": "2022-09-07T15:05:26.966Z",
     "iopub.status.idle": "2022-09-07T15:05:27.031Z",
     "shell.execute_reply": "2022-09-07T15:05:27.545Z"
    },
    "jupyter": {
     "outputs_hidden": false,
     "source_hidden": false
    }
   },
   "outputs": [],
   "source": [
    "#getting null values\n",
    "null_values = data.isnull().sum()"
   ]
  },
  {
   "cell_type": "code",
   "execution_count": 69,
   "id": "a884fdac",
   "metadata": {
    "execution": {
     "iopub.execute_input": "2022-09-07T15:05:28.033Z",
     "iopub.status.busy": "2022-09-07T15:05:28.013Z",
     "iopub.status.idle": "2022-09-07T15:05:28.075Z",
     "shell.execute_reply": "2022-09-07T15:05:27.560Z"
    },
    "jupyter": {
     "outputs_hidden": false,
     "source_hidden": false
    }
   },
   "outputs": [
    {
     "data": {
      "text/plain": [
       "array(['Silver', 'Red', 'Blue', 'Black', 'Gray', 'White', 'Other'],\n",
       "      dtype=object)"
      ]
     },
     "execution_count": 69,
     "metadata": {},
     "output_type": "execute_result"
    }
   ],
   "source": [
    "#checking unique colors present in the data \n",
    "data.color.unique()"
   ]
  },
  {
   "cell_type": "code",
   "execution_count": 70,
   "id": "c629f47b",
   "metadata": {
    "execution": {
     "iopub.execute_input": "2022-09-07T15:05:28.577Z",
     "iopub.status.busy": "2022-09-07T15:05:28.551Z",
     "iopub.status.idle": "2022-09-07T15:05:29.156Z",
     "shell.execute_reply": "2022-09-07T15:05:29.094Z"
    },
    "jupyter": {
     "outputs_hidden": false,
     "source_hidden": false
    }
   },
   "outputs": [],
   "source": [
    "#dropping irrelevant columns \n",
    "#could have dropped as a dictuonary at once but jupytewr was messing up\n",
    "\n",
    "data.drop('volvo', axis=\"columns\", inplace=True)\n",
    "data.drop('kia', axis=\"columns\", inplace=True)\n",
    "data.drop('buick', axis=\"columns\", inplace=True)\n",
    "data.drop('fiat', axis=\"columns\", inplace=True)\n",
    "data.drop('mit', axis=\"columns\", inplace=True)\n",
    "data.drop('jeep', axis=\"columns\", inplace=True)\n",
    "data.drop('gmc', axis=\"columns\", inplace=True)\n",
    "data.drop('acura', axis=\"columns\", inplace=True)\n",
    "data.drop('benz', axis=\"columns\", inplace=True)\n",
    "data.drop('tesla', axis=\"columns\", inplace=True)\n",
    "data.drop('inf', axis=\"columns\", inplace=True)\n",
    "data.drop('lex', axis=\"columns\", inplace=True)\n",
    "data.drop('por', axis=\"columns\", inplace=True)\n",
    "data.drop('audi', axis=\"columns\", inplace=True)\n",
    "data.drop('toyota', axis=\"columns\", inplace=True)\n",
    "data.drop('ford', axis=\"columns\", inplace=True)\n",
    "data.drop('chevrolet', axis=\"columns\", inplace=True)\n",
    "data.drop('dodge', axis=\"columns\", inplace=True)\n",
    "data.drop('nissan', axis=\"columns\", inplace=True)\n",
    "data.drop('mazda', axis=\"columns\", inplace=True)\n",
    "data.drop('hyundai', axis=\"columns\", inplace=True)\n",
    "data.drop('honda', axis=\"columns\", inplace=True)\n",
    "data.drop('bmw', axis=\"columns\", inplace=True)\n",
    "data.drop('vw', axis=\"columns\", inplace=True)"
   ]
  },
  {
   "cell_type": "code",
   "execution_count": 71,
   "id": "f4823ef2",
   "metadata": {
    "execution": {
     "iopub.execute_input": "2022-09-07T15:05:29.216Z",
     "iopub.status.busy": "2022-09-07T15:05:29.193Z",
     "iopub.status.idle": "2022-09-07T15:05:29.259Z",
     "shell.execute_reply": "2022-09-07T15:05:29.107Z"
    },
    "jupyter": {
     "outputs_hidden": false,
     "source_hidden": false
    }
   },
   "outputs": [
    {
     "data": {
      "text/plain": [
       "Index(['Unnamed: 0', 'year', 'brand', 'price', 'ratings', 'miles', 'color',\n",
       "       'drive', 'transmission'],\n",
       "      dtype='object')"
      ]
     },
     "execution_count": 71,
     "metadata": {},
     "output_type": "execute_result"
    }
   ],
   "source": [
    "#getting the data set columns \n",
    "data.columns"
   ]
  },
  {
   "cell_type": "code",
   "execution_count": 72,
   "id": "c5dfc9fb",
   "metadata": {
    "execution": {
     "iopub.execute_input": "2022-09-07T15:05:30.430Z",
     "iopub.status.busy": "2022-09-07T15:05:30.406Z",
     "iopub.status.idle": "2022-09-07T15:05:30.471Z",
     "shell.execute_reply": "2022-09-07T15:05:30.495Z"
    },
    "jupyter": {
     "outputs_hidden": false,
     "source_hidden": false
    }
   },
   "outputs": [],
   "source": [
    "# mapper = {\n",
    "#     \"Ford\": 1,\n",
    "#     \"Honda\": 2,\n",
    "#     \"Chevrolet\": 3,\n",
    "#     \"Dodge\": 4,\n",
    "#     \"Nissan\": 5,\n",
    "#     \"Mazda\": 6,\n",
    "#     \"Hyundai\": 7,\n",
    "#     \"BMW\": 8,\n",
    "#     \"Audi\": 9,\n",
    "#     \"Volkswagen\": 10,\n",
    "#     \"Tesla\": 11,\n",
    "#     \"Mercedes-Benz\": 12,\n",
    "#     \"Acura\": 13,\n",
    "#     \"Kia\": 14,\n",
    "#     \"Buick\": 15,\n",
    "#     \"FIAT\": 16,\n",
    "#     \"Volvo\": 17,\n",
    "#     \"Mitsubishi\": 18,\n",
    "#     \"Jeep\": 19,\n",
    "#     \"GMC\": 20,\n",
    "#     \"INFINITI\": 21,\n",
    "#     \"Lexus\": 22,\n",
    "#     \"Porsche\": 23,\n",
    "#     \"Toyota\": 24,\n",
    "    \n",
    "# }\n",
    "\n",
    "# data.brand = data.brand.apply(lambda x: mapper[x])"
   ]
  },
  {
   "cell_type": "code",
   "execution_count": 73,
   "id": "5bbed5e9",
   "metadata": {
    "execution": {
     "iopub.execute_input": "2022-09-07T15:05:31.254Z",
     "iopub.status.busy": "2022-09-07T15:05:31.232Z",
     "iopub.status.idle": "2022-09-07T15:05:35.490Z",
     "shell.execute_reply": "2022-09-07T15:05:35.200Z"
    },
    "jupyter": {
     "outputs_hidden": false,
     "source_hidden": false
    },
    "tags": []
   },
   "outputs": [
    {
     "data": {
      "text/plain": [
       "<BarContainer object of 2220 artists>"
      ]
     },
     "execution_count": 73,
     "metadata": {},
     "output_type": "execute_result"
    },
    {
     "data": {
      "image/png": "[encoded data removed]",
      "text/plain": [
       "<Figure size 936x1080 with 6 Axes>"
      ]
     },
     "metadata": {
      "needs_background": "light"
     },
     "output_type": "display_data"
    }
   ],
   "source": [
    "#price is what we want to predict\n",
    "#this section ------> grouping prices with with other columns to check correlation\n",
    "#grouping prices w year \n",
    "plt.figure(figsize=(13,15))\n",
    "group_1 = data.groupby('year')['price'].mean().sort_values(ascending=True)\n",
    "plt.subplot(3,2,1)\n",
    "plt.bar(group_1.index, group_1.values)\n",
    "\n",
    "\n",
    "\n",
    "#grouping price with brand \n",
    "group_2 = data.groupby('brand')['price'].mean().sort_values(ascending=True)\n",
    "plt.subplot(3,2,2)\n",
    "plt.xticks(rotation=90)\n",
    "plt.bar(group_2.index, group_2.values)\n",
    "\n",
    "#grouping price with miles a\n",
    "group_3 = data.groupby('ratings')['price'].mean().sort_values(ascending=True)\n",
    "plt.subplot(3,2,3)\n",
    "plt.bar(group_3.index, group_3.values)\n",
    "\n",
    "\n",
    "#grouping with %colors\n",
    "#grouping with %colors\n",
    "#grouping with %colors\n",
    "group_4 = data.groupby('color')['price'].mean().sort_values(ascending=True)\n",
    "plt.subplot(3,2,4)\n",
    "plt.bar(group_4.index, group_4.values)\n",
    "\n",
    "##check drive \n",
    "group_5 = data.groupby('drive')['price'].mean().sort_values(ascending=True)\n",
    "plt.subplot(3,2,5)\n",
    "plt.bar(group_5.index, group_5.values)\n",
    "\n",
    "##checking miles abs\n",
    "group_6 = data.groupby('miles')['price'].mean().sort_values(ascending=True)\n",
    "plt.subplot(3,2,6)\n",
    "plt.bar(group_6.index, group_6.values)\n",
    "\n",
    "\n"
   ]
  },
  {
   "cell_type": "code",
   "execution_count": 74,
   "id": "aa2c971a-36a1-46ca-9cbb-0a67c5278b25",
   "metadata": {
    "execution": {
     "iopub.execute_input": "2022-09-07T15:05:35.552Z",
     "iopub.status.busy": "2022-09-07T15:05:35.528Z",
     "iopub.status.idle": "2022-09-07T15:05:35.613Z",
     "shell.execute_reply": "2022-09-07T15:05:35.213Z"
    },
    "jupyter": {
     "outputs_hidden": false,
     "source_hidden": false
    },
    "nteract": {
     "transient": {
      "deleting": false
     }
    }
   },
   "outputs": [
    {
     "data": {
      "text/plain": [
       "<BarContainer object of 24 artists>"
      ]
     },
     "execution_count": 74,
     "metadata": {},
     "output_type": "execute_result"
    },
    {
     "data": {
      "image/png": "[encoded data removed]",
      "text/plain": [
       "<Figure size 936x1080 with 1 Axes>"
      ]
     },
     "metadata": {
      "needs_background": "light"
     },
     "output_type": "display_data"
    }
   ],
   "source": [
    "#rechecking brand correlation with prices on a new figure \n",
    "plt.figure(figsize=(13,15))\n",
    "group_2 = data.groupby('brand')['price'].mean().sort_values(ascending=True)\n",
    "plt.bar(group_2.index, group_2.values)\n",
    "\n"
   ]
  },
  {
   "cell_type": "code",
   "execution_count": 75,
   "id": "96221fe0",
   "metadata": {
    "execution": {
     "iopub.execute_input": "2022-09-07T15:05:35.675Z",
     "iopub.status.busy": "2022-09-07T15:05:35.651Z",
     "iopub.status.idle": "2022-09-07T15:05:35.718Z",
     "shell.execute_reply": "2022-09-07T15:05:35.239Z"
    },
    "jupyter": {
     "outputs_hidden": false,
     "source_hidden": false
    }
   },
   "outputs": [
    {
     "data": {
      "text/plain": [
       "<seaborn.axisgrid.PairGrid at 0x2c60bd54a00>"
      ]
     },
     "execution_count": 75,
     "metadata": {},
     "output_type": "execute_result"
    },
    {
     "data": {
      "image/png": "[encoded data removed]",
      "text/plain": [
       "<Figure size 900x900 with 30 Axes>"
      ]
     },
     "metadata": {
      "needs_background": "light"
     },
     "output_type": "display_data"
    }
   ],
   "source": [
    "sns.pairplot(data)"
   ]
  },
  {
   "cell_type": "code",
   "execution_count": null,
   "id": "13be1ba1",
   "metadata": {},
   "outputs": [],
   "source": []
  },
  {
   "cell_type": "code",
   "execution_count": 88,
   "id": "8a8cdb0b",
   "metadata": {
    "execution": {
     "iopub.execute_input": "2022-09-07T15:05:35.779Z",
     "iopub.status.busy": "2022-09-07T15:05:35.755Z",
     "iopub.status.idle": "2022-09-07T15:05:35.853Z",
     "shell.execute_reply": "2022-09-07T15:05:35.266Z"
    },
    "jupyter": {
     "outputs_hidden": false,
     "source_hidden": false
    }
   },
   "outputs": [
    {
     "data": {
      "text/html": [
       "<div>\n",
       "<style scoped>\n",
       "    .dataframe tbody tr th:only-of-type {\n",
       "        vertical-align: middle;\n",
       "    }\n",
       "\n",
       "    .dataframe tbody tr th {\n",
       "        vertical-align: top;\n",
       "    }\n",
       "\n",
       "    .dataframe thead th {\n",
       "        text-align: right;\n",
       "    }\n",
       "</style>\n",
       "<table border=\"1\" class=\"dataframe\">\n",
       "  <thead>\n",
       "    <tr style=\"text-align: right;\">\n",
       "      <th></th>\n",
       "      <th>year</th>\n",
       "      <th>brand</th>\n",
       "      <th>price</th>\n",
       "      <th>ratings</th>\n",
       "      <th>color</th>\n",
       "      <th>drive</th>\n",
       "      <th>transmission</th>\n",
       "    </tr>\n",
       "  </thead>\n",
       "  <tbody>\n",
       "    <tr>\n",
       "      <th>0</th>\n",
       "      <td>2005</td>\n",
       "      <td>1</td>\n",
       "      <td>5988</td>\n",
       "      <td>4.7</td>\n",
       "      <td>1</td>\n",
       "      <td>1</td>\n",
       "      <td>0</td>\n",
       "    </tr>\n",
       "    <tr>\n",
       "      <th>1</th>\n",
       "      <td>2017</td>\n",
       "      <td>1</td>\n",
       "      <td>11999</td>\n",
       "      <td>4.7</td>\n",
       "      <td>1</td>\n",
       "      <td>1</td>\n",
       "      <td>0</td>\n",
       "    </tr>\n",
       "    <tr>\n",
       "      <th>2</th>\n",
       "      <td>2016</td>\n",
       "      <td>1</td>\n",
       "      <td>32988</td>\n",
       "      <td>4.7</td>\n",
       "      <td>1</td>\n",
       "      <td>1</td>\n",
       "      <td>0</td>\n",
       "    </tr>\n",
       "    <tr>\n",
       "      <th>3</th>\n",
       "      <td>2018</td>\n",
       "      <td>1</td>\n",
       "      <td>15590</td>\n",
       "      <td>4.7</td>\n",
       "      <td>1</td>\n",
       "      <td>1</td>\n",
       "      <td>0</td>\n",
       "    </tr>\n",
       "    <tr>\n",
       "      <th>4</th>\n",
       "      <td>2016</td>\n",
       "      <td>1</td>\n",
       "      <td>14282</td>\n",
       "      <td>4.7</td>\n",
       "      <td>1</td>\n",
       "      <td>1</td>\n",
       "      <td>0</td>\n",
       "    </tr>\n",
       "    <tr>\n",
       "      <th>...</th>\n",
       "      <td>...</td>\n",
       "      <td>...</td>\n",
       "      <td>...</td>\n",
       "      <td>...</td>\n",
       "      <td>...</td>\n",
       "      <td>...</td>\n",
       "      <td>...</td>\n",
       "    </tr>\n",
       "    <tr>\n",
       "      <th>111274</th>\n",
       "      <td>2020</td>\n",
       "      <td>23</td>\n",
       "      <td>207900</td>\n",
       "      <td>4.9</td>\n",
       "      <td>6</td>\n",
       "      <td>1</td>\n",
       "      <td>2</td>\n",
       "    </tr>\n",
       "    <tr>\n",
       "      <th>111275</th>\n",
       "      <td>2017</td>\n",
       "      <td>23</td>\n",
       "      <td>48995</td>\n",
       "      <td>4.9</td>\n",
       "      <td>6</td>\n",
       "      <td>1</td>\n",
       "      <td>2</td>\n",
       "    </tr>\n",
       "    <tr>\n",
       "      <th>111276</th>\n",
       "      <td>2018</td>\n",
       "      <td>23</td>\n",
       "      <td>79995</td>\n",
       "      <td>4.9</td>\n",
       "      <td>6</td>\n",
       "      <td>1</td>\n",
       "      <td>2</td>\n",
       "    </tr>\n",
       "    <tr>\n",
       "      <th>111277</th>\n",
       "      <td>2015</td>\n",
       "      <td>23</td>\n",
       "      <td>44999</td>\n",
       "      <td>4.9</td>\n",
       "      <td>6</td>\n",
       "      <td>1</td>\n",
       "      <td>2</td>\n",
       "    </tr>\n",
       "    <tr>\n",
       "      <th>111278</th>\n",
       "      <td>2017</td>\n",
       "      <td>23</td>\n",
       "      <td>31999</td>\n",
       "      <td>4.9</td>\n",
       "      <td>6</td>\n",
       "      <td>1</td>\n",
       "      <td>2</td>\n",
       "    </tr>\n",
       "  </tbody>\n",
       "</table>\n",
       "<p>111279 rows × 7 columns</p>\n",
       "</div>"
      ],
      "text/plain": [
       "        year  brand   price  ratings  color  drive  transmission\n",
       "0       2005      1    5988      4.7      1      1             0\n",
       "1       2017      1   11999      4.7      1      1             0\n",
       "2       2016      1   32988      4.7      1      1             0\n",
       "3       2018      1   15590      4.7      1      1             0\n",
       "4       2016      1   14282      4.7      1      1             0\n",
       "...      ...    ...     ...      ...    ...    ...           ...\n",
       "111274  2020     23  207900      4.9      6      1             2\n",
       "111275  2017     23   48995      4.9      6      1             2\n",
       "111276  2018     23   79995      4.9      6      1             2\n",
       "111277  2015     23   44999      4.9      6      1             2\n",
       "111278  2017     23   31999      4.9      6      1             2\n",
       "\n",
       "[111279 rows x 7 columns]"
      ]
     },
     "execution_count": 88,
     "metadata": {},
     "output_type": "execute_result"
    }
   ],
   "source": [
    "data"
   ]
  },
  {
   "cell_type": "code",
   "execution_count": 89,
   "id": "8f4cb8f5",
   "metadata": {
    "execution": {
     "iopub.execute_input": "2022-09-07T15:05:35.916Z",
     "iopub.status.busy": "2022-09-07T15:05:35.893Z",
     "iopub.status.idle": "2022-09-07T15:05:35.944Z",
     "shell.execute_reply": "2022-09-07T15:05:35.294Z"
    },
    "jupyter": {
     "outputs_hidden": false,
     "source_hidden": false
    }
   },
   "outputs": [
    {
     "ename": "KeyError",
     "evalue": "1",
     "output_type": "error",
     "traceback": [
      "\u001b[1;31m---------------------------------------------------------------------------\u001b[0m",
      "\u001b[1;31mKeyError\u001b[0m                                  Traceback (most recent call last)",
      "\u001b[1;32m<ipython-input-89-425e02ae159d>\u001b[0m in \u001b[0;36m<module>\u001b[1;34m\u001b[0m\n\u001b[0;32m     29\u001b[0m }\n\u001b[0;32m     30\u001b[0m \u001b[1;33m\u001b[0m\u001b[0m\n\u001b[1;32m---> 31\u001b[1;33m \u001b[0mdata\u001b[0m\u001b[1;33m.\u001b[0m\u001b[0mbrand\u001b[0m \u001b[1;33m=\u001b[0m \u001b[0mdata\u001b[0m\u001b[1;33m.\u001b[0m\u001b[0mbrand\u001b[0m\u001b[1;33m.\u001b[0m\u001b[0mapply\u001b[0m\u001b[1;33m(\u001b[0m\u001b[1;32mlambda\u001b[0m \u001b[0mx\u001b[0m\u001b[1;33m:\u001b[0m \u001b[0mmapper\u001b[0m\u001b[1;33m[\u001b[0m\u001b[0mx\u001b[0m\u001b[1;33m]\u001b[0m\u001b[1;33m)\u001b[0m\u001b[1;33m\u001b[0m\u001b[1;33m\u001b[0m\u001b[0m\n\u001b[0m",
      "\u001b[1;32mC:\\Users\\Downloads\\anaconda3\\lib\\site-packages\\pandas\\core\\series.py\u001b[0m in \u001b[0;36mapply\u001b[1;34m(self, func, convert_dtype, args, **kwds)\u001b[0m\n\u001b[0;32m   4136\u001b[0m             \u001b[1;32melse\u001b[0m\u001b[1;33m:\u001b[0m\u001b[1;33m\u001b[0m\u001b[1;33m\u001b[0m\u001b[0m\n\u001b[0;32m   4137\u001b[0m                 \u001b[0mvalues\u001b[0m \u001b[1;33m=\u001b[0m \u001b[0mself\u001b[0m\u001b[1;33m.\u001b[0m\u001b[0mastype\u001b[0m\u001b[1;33m(\u001b[0m\u001b[0mobject\u001b[0m\u001b[1;33m)\u001b[0m\u001b[1;33m.\u001b[0m\u001b[0m_values\u001b[0m\u001b[1;33m\u001b[0m\u001b[1;33m\u001b[0m\u001b[0m\n\u001b[1;32m-> 4138\u001b[1;33m                 \u001b[0mmapped\u001b[0m \u001b[1;33m=\u001b[0m \u001b[0mlib\u001b[0m\u001b[1;33m.\u001b[0m\u001b[0mmap_infer\u001b[0m\u001b[1;33m(\u001b[0m\u001b[0mvalues\u001b[0m\u001b[1;33m,\u001b[0m \u001b[0mf\u001b[0m\u001b[1;33m,\u001b[0m \u001b[0mconvert\u001b[0m\u001b[1;33m=\u001b[0m\u001b[0mconvert_dtype\u001b[0m\u001b[1;33m)\u001b[0m\u001b[1;33m\u001b[0m\u001b[1;33m\u001b[0m\u001b[0m\n\u001b[0m\u001b[0;32m   4139\u001b[0m \u001b[1;33m\u001b[0m\u001b[0m\n\u001b[0;32m   4140\u001b[0m         \u001b[1;32mif\u001b[0m \u001b[0mlen\u001b[0m\u001b[1;33m(\u001b[0m\u001b[0mmapped\u001b[0m\u001b[1;33m)\u001b[0m \u001b[1;32mand\u001b[0m \u001b[0misinstance\u001b[0m\u001b[1;33m(\u001b[0m\u001b[0mmapped\u001b[0m\u001b[1;33m[\u001b[0m\u001b[1;36m0\u001b[0m\u001b[1;33m]\u001b[0m\u001b[1;33m,\u001b[0m \u001b[0mSeries\u001b[0m\u001b[1;33m)\u001b[0m\u001b[1;33m:\u001b[0m\u001b[1;33m\u001b[0m\u001b[1;33m\u001b[0m\u001b[0m\n",
      "\u001b[1;32mpandas\\_libs\\lib.pyx\u001b[0m in \u001b[0;36mpandas._libs.lib.map_infer\u001b[1;34m()\u001b[0m\n",
      "\u001b[1;32m<ipython-input-89-425e02ae159d>\u001b[0m in \u001b[0;36m<lambda>\u001b[1;34m(x)\u001b[0m\n\u001b[0;32m     29\u001b[0m }\n\u001b[0;32m     30\u001b[0m \u001b[1;33m\u001b[0m\u001b[0m\n\u001b[1;32m---> 31\u001b[1;33m \u001b[0mdata\u001b[0m\u001b[1;33m.\u001b[0m\u001b[0mbrand\u001b[0m \u001b[1;33m=\u001b[0m \u001b[0mdata\u001b[0m\u001b[1;33m.\u001b[0m\u001b[0mbrand\u001b[0m\u001b[1;33m.\u001b[0m\u001b[0mapply\u001b[0m\u001b[1;33m(\u001b[0m\u001b[1;32mlambda\u001b[0m \u001b[0mx\u001b[0m\u001b[1;33m:\u001b[0m \u001b[0mmapper\u001b[0m\u001b[1;33m[\u001b[0m\u001b[0mx\u001b[0m\u001b[1;33m]\u001b[0m\u001b[1;33m)\u001b[0m\u001b[1;33m\u001b[0m\u001b[1;33m\u001b[0m\u001b[0m\n\u001b[0m",
      "\u001b[1;31mKeyError\u001b[0m: 1"
     ]
    }
   ],
   "source": [
    "#ML model doesnt accept accept strings as parameter to work with \n",
    "#converting strings present in brand to numbers using the lambda funtion to map it into the dataset \n",
    "mapper = {\n",
    "    \"Ford\": 1,\n",
    "    \"Honda\": 2,\n",
    "    \"Chevrolet\": 3,\n",
    "    \"Dodge\": 4,\n",
    "    \"Nissan\": 5,\n",
    "    \"Mazda\": 6,\n",
    "    \"Hyundai\": 7,\n",
    "    \"BMW\": 8,\n",
    "    \"Audi\": 9,\n",
    "    \"Volkswagen\": 10,\n",
    "    \"Tesla\": 11,\n",
    "    \"Mercedes-Benz\": 12,\n",
    "    \"Acura\": 13,\n",
    "    \"Kia\": 14,\n",
    "    \"Buick\": 15,\n",
    "    \"FIAT\": 16,\n",
    "    \"Volvo\": 17,\n",
    "    \"Mitsubishi\": 18,\n",
    "    \"Jeep\": 19,\n",
    "    \"GMC\": 20,\n",
    "    \"INFINITI\": 21,\n",
    "    \"Lexus\": 22,\n",
    "    \"Porsche\": 23,\n",
    "    \"Toyota\": 24,\n",
    "    \n",
    "}\n",
    "\n",
    "data.brand = data.brand.apply(lambda x: mapper[x])"
   ]
  },
  {
   "cell_type": "code",
   "execution_count": 90,
   "id": "505a1311",
   "metadata": {
    "execution": {
     "iopub.execute_input": "2022-09-07T15:05:36.005Z",
     "iopub.status.busy": "2022-09-07T15:05:35.982Z",
     "iopub.status.idle": "2022-09-07T15:05:36.046Z",
     "shell.execute_reply": "2022-09-07T15:05:35.324Z"
    },
    "jupyter": {
     "outputs_hidden": false,
     "source_hidden": false
    }
   },
   "outputs": [
    {
     "data": {
      "text/plain": [
       "array([ 1, 24,  2,  3,  4,  5,  6,  7,  8,  9, 10, 11, 12, 13, 14, 15, 16,\n",
       "       17, 18, 19, 20, 21, 22, 23], dtype=int64)"
      ]
     },
     "execution_count": 90,
     "metadata": {},
     "output_type": "execute_result"
    }
   ],
   "source": [
    "#confirming and checking the brands after mapping \n",
    "data.brand.unique()\n",
    "#can see it gives numbers now "
   ]
  },
  {
   "cell_type": "code",
   "execution_count": 91,
   "id": "0568f1a9",
   "metadata": {
    "execution": {
     "iopub.execute_input": "2022-09-07T15:05:36.110Z",
     "iopub.status.busy": "2022-09-07T15:05:36.083Z",
     "iopub.status.idle": "2022-09-07T15:05:36.185Z",
     "shell.execute_reply": "2022-09-07T15:05:35.351Z"
    },
    "jupyter": {
     "outputs_hidden": false,
     "source_hidden": false
    }
   },
   "outputs": [
    {
     "data": {
      "text/html": [
       "<div>\n",
       "<style scoped>\n",
       "    .dataframe tbody tr th:only-of-type {\n",
       "        vertical-align: middle;\n",
       "    }\n",
       "\n",
       "    .dataframe tbody tr th {\n",
       "        vertical-align: top;\n",
       "    }\n",
       "\n",
       "    .dataframe thead th {\n",
       "        text-align: right;\n",
       "    }\n",
       "</style>\n",
       "<table border=\"1\" class=\"dataframe\">\n",
       "  <thead>\n",
       "    <tr style=\"text-align: right;\">\n",
       "      <th></th>\n",
       "      <th>year</th>\n",
       "      <th>brand</th>\n",
       "      <th>price</th>\n",
       "      <th>ratings</th>\n",
       "      <th>color</th>\n",
       "      <th>drive</th>\n",
       "      <th>transmission</th>\n",
       "    </tr>\n",
       "  </thead>\n",
       "  <tbody>\n",
       "    <tr>\n",
       "      <th>0</th>\n",
       "      <td>2005</td>\n",
       "      <td>1</td>\n",
       "      <td>5988</td>\n",
       "      <td>4.7</td>\n",
       "      <td>1</td>\n",
       "      <td>1</td>\n",
       "      <td>0</td>\n",
       "    </tr>\n",
       "    <tr>\n",
       "      <th>1</th>\n",
       "      <td>2017</td>\n",
       "      <td>1</td>\n",
       "      <td>11999</td>\n",
       "      <td>4.7</td>\n",
       "      <td>1</td>\n",
       "      <td>1</td>\n",
       "      <td>0</td>\n",
       "    </tr>\n",
       "    <tr>\n",
       "      <th>2</th>\n",
       "      <td>2016</td>\n",
       "      <td>1</td>\n",
       "      <td>32988</td>\n",
       "      <td>4.7</td>\n",
       "      <td>1</td>\n",
       "      <td>1</td>\n",
       "      <td>0</td>\n",
       "    </tr>\n",
       "    <tr>\n",
       "      <th>3</th>\n",
       "      <td>2018</td>\n",
       "      <td>1</td>\n",
       "      <td>15590</td>\n",
       "      <td>4.7</td>\n",
       "      <td>1</td>\n",
       "      <td>1</td>\n",
       "      <td>0</td>\n",
       "    </tr>\n",
       "    <tr>\n",
       "      <th>4</th>\n",
       "      <td>2016</td>\n",
       "      <td>1</td>\n",
       "      <td>14282</td>\n",
       "      <td>4.7</td>\n",
       "      <td>1</td>\n",
       "      <td>1</td>\n",
       "      <td>0</td>\n",
       "    </tr>\n",
       "    <tr>\n",
       "      <th>5</th>\n",
       "      <td>2011</td>\n",
       "      <td>1</td>\n",
       "      <td>11000</td>\n",
       "      <td>4.7</td>\n",
       "      <td>1</td>\n",
       "      <td>1</td>\n",
       "      <td>0</td>\n",
       "    </tr>\n",
       "    <tr>\n",
       "      <th>6</th>\n",
       "      <td>2018</td>\n",
       "      <td>1</td>\n",
       "      <td>18991</td>\n",
       "      <td>4.7</td>\n",
       "      <td>1</td>\n",
       "      <td>1</td>\n",
       "      <td>0</td>\n",
       "    </tr>\n",
       "    <tr>\n",
       "      <th>7</th>\n",
       "      <td>2016</td>\n",
       "      <td>1</td>\n",
       "      <td>27800</td>\n",
       "      <td>4.7</td>\n",
       "      <td>1</td>\n",
       "      <td>1</td>\n",
       "      <td>0</td>\n",
       "    </tr>\n",
       "    <tr>\n",
       "      <th>8</th>\n",
       "      <td>2019</td>\n",
       "      <td>1</td>\n",
       "      <td>50588</td>\n",
       "      <td>4.7</td>\n",
       "      <td>1</td>\n",
       "      <td>1</td>\n",
       "      <td>0</td>\n",
       "    </tr>\n",
       "    <tr>\n",
       "      <th>9</th>\n",
       "      <td>2019</td>\n",
       "      <td>1</td>\n",
       "      <td>22688</td>\n",
       "      <td>4.7</td>\n",
       "      <td>1</td>\n",
       "      <td>1</td>\n",
       "      <td>0</td>\n",
       "    </tr>\n",
       "  </tbody>\n",
       "</table>\n",
       "</div>"
      ],
      "text/plain": [
       "   year  brand  price  ratings  color  drive  transmission\n",
       "0  2005      1   5988      4.7      1      1             0\n",
       "1  2017      1  11999      4.7      1      1             0\n",
       "2  2016      1  32988      4.7      1      1             0\n",
       "3  2018      1  15590      4.7      1      1             0\n",
       "4  2016      1  14282      4.7      1      1             0\n",
       "5  2011      1  11000      4.7      1      1             0\n",
       "6  2018      1  18991      4.7      1      1             0\n",
       "7  2016      1  27800      4.7      1      1             0\n",
       "8  2019      1  50588      4.7      1      1             0\n",
       "9  2019      1  22688      4.7      1      1             0"
      ]
     },
     "execution_count": 91,
     "metadata": {},
     "output_type": "execute_result"
    }
   ],
   "source": [
    "data.head(10)"
   ]
  },
  {
   "cell_type": "code",
   "execution_count": 111,
   "id": "e8bf2241-3628-4d4d-95ca-0dc1b59593ac",
   "metadata": {
    "execution": {
     "iopub.execute_input": "2022-09-07T15:05:36.881Z",
     "iopub.status.busy": "2022-09-07T15:05:36.856Z",
     "iopub.status.idle": "2022-09-07T15:05:36.922Z",
     "shell.execute_reply": "2022-09-07T15:05:36.956Z"
    },
    "jupyter": {
     "outputs_hidden": false,
     "source_hidden": false
    },
    "nteract": {
     "transient": {
      "deleting": false
     }
    }
   },
   "outputs": [
    {
     "ename": "KeyError",
     "evalue": "\"['Unnamed: 0'] not found in axis\"",
     "output_type": "error",
     "traceback": [
      "\u001b[1;31m---------------------------------------------------------------------------\u001b[0m",
      "\u001b[1;31mKeyError\u001b[0m                                  Traceback (most recent call last)",
      "\u001b[1;32m<ipython-input-111-b9fb3296d311>\u001b[0m in \u001b[0;36m<module>\u001b[1;34m\u001b[0m\n\u001b[0;32m      1\u001b[0m \u001b[1;31m#found out there are still some unneccessary columns\u001b[0m\u001b[1;33m\u001b[0m\u001b[1;33m\u001b[0m\u001b[1;33m\u001b[0m\u001b[0m\n\u001b[0;32m      2\u001b[0m \u001b[1;31m#dropping them\u001b[0m\u001b[1;33m\u001b[0m\u001b[1;33m\u001b[0m\u001b[1;33m\u001b[0m\u001b[0m\n\u001b[1;32m----> 3\u001b[1;33m \u001b[0mdata\u001b[0m\u001b[1;33m.\u001b[0m\u001b[0mdrop\u001b[0m\u001b[1;33m(\u001b[0m\u001b[1;34m'Unnamed: 0'\u001b[0m\u001b[1;33m,\u001b[0m \u001b[0maxis\u001b[0m\u001b[1;33m=\u001b[0m\u001b[1;36m1\u001b[0m\u001b[1;33m,\u001b[0m\u001b[0minplace\u001b[0m\u001b[1;33m=\u001b[0m\u001b[1;32mTrue\u001b[0m\u001b[1;33m)\u001b[0m\u001b[1;33m\u001b[0m\u001b[1;33m\u001b[0m\u001b[0m\n\u001b[0m\u001b[0;32m      4\u001b[0m \u001b[0mdata\u001b[0m\u001b[1;33m.\u001b[0m\u001b[0mdrop\u001b[0m\u001b[1;33m(\u001b[0m\u001b[1;34m'miles'\u001b[0m\u001b[1;33m,\u001b[0m \u001b[0maxis\u001b[0m\u001b[1;33m=\u001b[0m\u001b[1;36m1\u001b[0m\u001b[1;33m,\u001b[0m \u001b[0minplace\u001b[0m\u001b[1;33m=\u001b[0m\u001b[1;32mTrue\u001b[0m\u001b[1;33m)\u001b[0m\u001b[1;33m\u001b[0m\u001b[1;33m\u001b[0m\u001b[0m\n",
      "\u001b[1;32mC:\\Users\\Downloads\\anaconda3\\lib\\site-packages\\pandas\\core\\frame.py\u001b[0m in \u001b[0;36mdrop\u001b[1;34m(self, labels, axis, index, columns, level, inplace, errors)\u001b[0m\n\u001b[0;32m   4306\u001b[0m                 \u001b[0mweight\u001b[0m  \u001b[1;36m1.0\u001b[0m     \u001b[1;36m0.8\u001b[0m\u001b[1;33m\u001b[0m\u001b[1;33m\u001b[0m\u001b[0m\n\u001b[0;32m   4307\u001b[0m         \"\"\"\n\u001b[1;32m-> 4308\u001b[1;33m         return super().drop(\n\u001b[0m\u001b[0;32m   4309\u001b[0m             \u001b[0mlabels\u001b[0m\u001b[1;33m=\u001b[0m\u001b[0mlabels\u001b[0m\u001b[1;33m,\u001b[0m\u001b[1;33m\u001b[0m\u001b[1;33m\u001b[0m\u001b[0m\n\u001b[0;32m   4310\u001b[0m             \u001b[0maxis\u001b[0m\u001b[1;33m=\u001b[0m\u001b[0maxis\u001b[0m\u001b[1;33m,\u001b[0m\u001b[1;33m\u001b[0m\u001b[1;33m\u001b[0m\u001b[0m\n",
      "\u001b[1;32mC:\\Users\\Downloads\\anaconda3\\lib\\site-packages\\pandas\\core\\generic.py\u001b[0m in \u001b[0;36mdrop\u001b[1;34m(self, labels, axis, index, columns, level, inplace, errors)\u001b[0m\n\u001b[0;32m   4151\u001b[0m         \u001b[1;32mfor\u001b[0m \u001b[0maxis\u001b[0m\u001b[1;33m,\u001b[0m \u001b[0mlabels\u001b[0m \u001b[1;32min\u001b[0m \u001b[0maxes\u001b[0m\u001b[1;33m.\u001b[0m\u001b[0mitems\u001b[0m\u001b[1;33m(\u001b[0m\u001b[1;33m)\u001b[0m\u001b[1;33m:\u001b[0m\u001b[1;33m\u001b[0m\u001b[1;33m\u001b[0m\u001b[0m\n\u001b[0;32m   4152\u001b[0m             \u001b[1;32mif\u001b[0m \u001b[0mlabels\u001b[0m \u001b[1;32mis\u001b[0m \u001b[1;32mnot\u001b[0m \u001b[1;32mNone\u001b[0m\u001b[1;33m:\u001b[0m\u001b[1;33m\u001b[0m\u001b[1;33m\u001b[0m\u001b[0m\n\u001b[1;32m-> 4153\u001b[1;33m                 \u001b[0mobj\u001b[0m \u001b[1;33m=\u001b[0m \u001b[0mobj\u001b[0m\u001b[1;33m.\u001b[0m\u001b[0m_drop_axis\u001b[0m\u001b[1;33m(\u001b[0m\u001b[0mlabels\u001b[0m\u001b[1;33m,\u001b[0m \u001b[0maxis\u001b[0m\u001b[1;33m,\u001b[0m \u001b[0mlevel\u001b[0m\u001b[1;33m=\u001b[0m\u001b[0mlevel\u001b[0m\u001b[1;33m,\u001b[0m \u001b[0merrors\u001b[0m\u001b[1;33m=\u001b[0m\u001b[0merrors\u001b[0m\u001b[1;33m)\u001b[0m\u001b[1;33m\u001b[0m\u001b[1;33m\u001b[0m\u001b[0m\n\u001b[0m\u001b[0;32m   4154\u001b[0m \u001b[1;33m\u001b[0m\u001b[0m\n\u001b[0;32m   4155\u001b[0m         \u001b[1;32mif\u001b[0m \u001b[0minplace\u001b[0m\u001b[1;33m:\u001b[0m\u001b[1;33m\u001b[0m\u001b[1;33m\u001b[0m\u001b[0m\n",
      "\u001b[1;32mC:\\Users\\Downloads\\anaconda3\\lib\\site-packages\\pandas\\core\\generic.py\u001b[0m in \u001b[0;36m_drop_axis\u001b[1;34m(self, labels, axis, level, errors)\u001b[0m\n\u001b[0;32m   4186\u001b[0m                 \u001b[0mnew_axis\u001b[0m \u001b[1;33m=\u001b[0m \u001b[0maxis\u001b[0m\u001b[1;33m.\u001b[0m\u001b[0mdrop\u001b[0m\u001b[1;33m(\u001b[0m\u001b[0mlabels\u001b[0m\u001b[1;33m,\u001b[0m \u001b[0mlevel\u001b[0m\u001b[1;33m=\u001b[0m\u001b[0mlevel\u001b[0m\u001b[1;33m,\u001b[0m \u001b[0merrors\u001b[0m\u001b[1;33m=\u001b[0m\u001b[0merrors\u001b[0m\u001b[1;33m)\u001b[0m\u001b[1;33m\u001b[0m\u001b[1;33m\u001b[0m\u001b[0m\n\u001b[0;32m   4187\u001b[0m             \u001b[1;32melse\u001b[0m\u001b[1;33m:\u001b[0m\u001b[1;33m\u001b[0m\u001b[1;33m\u001b[0m\u001b[0m\n\u001b[1;32m-> 4188\u001b[1;33m                 \u001b[0mnew_axis\u001b[0m \u001b[1;33m=\u001b[0m \u001b[0maxis\u001b[0m\u001b[1;33m.\u001b[0m\u001b[0mdrop\u001b[0m\u001b[1;33m(\u001b[0m\u001b[0mlabels\u001b[0m\u001b[1;33m,\u001b[0m \u001b[0merrors\u001b[0m\u001b[1;33m=\u001b[0m\u001b[0merrors\u001b[0m\u001b[1;33m)\u001b[0m\u001b[1;33m\u001b[0m\u001b[1;33m\u001b[0m\u001b[0m\n\u001b[0m\u001b[0;32m   4189\u001b[0m             \u001b[0mresult\u001b[0m \u001b[1;33m=\u001b[0m \u001b[0mself\u001b[0m\u001b[1;33m.\u001b[0m\u001b[0mreindex\u001b[0m\u001b[1;33m(\u001b[0m\u001b[1;33m**\u001b[0m\u001b[1;33m{\u001b[0m\u001b[0maxis_name\u001b[0m\u001b[1;33m:\u001b[0m \u001b[0mnew_axis\u001b[0m\u001b[1;33m}\u001b[0m\u001b[1;33m)\u001b[0m\u001b[1;33m\u001b[0m\u001b[1;33m\u001b[0m\u001b[0m\n\u001b[0;32m   4190\u001b[0m \u001b[1;33m\u001b[0m\u001b[0m\n",
      "\u001b[1;32mC:\\Users\\Downloads\\anaconda3\\lib\\site-packages\\pandas\\core\\indexes\\base.py\u001b[0m in \u001b[0;36mdrop\u001b[1;34m(self, labels, errors)\u001b[0m\n\u001b[0;32m   5589\u001b[0m         \u001b[1;32mif\u001b[0m \u001b[0mmask\u001b[0m\u001b[1;33m.\u001b[0m\u001b[0many\u001b[0m\u001b[1;33m(\u001b[0m\u001b[1;33m)\u001b[0m\u001b[1;33m:\u001b[0m\u001b[1;33m\u001b[0m\u001b[1;33m\u001b[0m\u001b[0m\n\u001b[0;32m   5590\u001b[0m             \u001b[1;32mif\u001b[0m \u001b[0merrors\u001b[0m \u001b[1;33m!=\u001b[0m \u001b[1;34m\"ignore\"\u001b[0m\u001b[1;33m:\u001b[0m\u001b[1;33m\u001b[0m\u001b[1;33m\u001b[0m\u001b[0m\n\u001b[1;32m-> 5591\u001b[1;33m                 \u001b[1;32mraise\u001b[0m \u001b[0mKeyError\u001b[0m\u001b[1;33m(\u001b[0m\u001b[1;34mf\"{labels[mask]} not found in axis\"\u001b[0m\u001b[1;33m)\u001b[0m\u001b[1;33m\u001b[0m\u001b[1;33m\u001b[0m\u001b[0m\n\u001b[0m\u001b[0;32m   5592\u001b[0m             \u001b[0mindexer\u001b[0m \u001b[1;33m=\u001b[0m \u001b[0mindexer\u001b[0m\u001b[1;33m[\u001b[0m\u001b[1;33m~\u001b[0m\u001b[0mmask\u001b[0m\u001b[1;33m]\u001b[0m\u001b[1;33m\u001b[0m\u001b[1;33m\u001b[0m\u001b[0m\n\u001b[0;32m   5593\u001b[0m         \u001b[1;32mreturn\u001b[0m \u001b[0mself\u001b[0m\u001b[1;33m.\u001b[0m\u001b[0mdelete\u001b[0m\u001b[1;33m(\u001b[0m\u001b[0mindexer\u001b[0m\u001b[1;33m)\u001b[0m\u001b[1;33m\u001b[0m\u001b[1;33m\u001b[0m\u001b[0m\n",
      "\u001b[1;31mKeyError\u001b[0m: \"['Unnamed: 0'] not found in axis\""
     ]
    }
   ],
   "source": [
    "#found out there are still some unneccessary columns \n",
    "#dropping them\n",
    "data.drop('Unnamed: 0', axis=1,inplace=True)\n",
    "data.drop('miles', axis=1, inplace=True)"
   ]
  },
  {
   "cell_type": "code",
   "execution_count": 112,
   "id": "a0fd0c80",
   "metadata": {
    "execution": {
     "iopub.execute_input": "2022-09-07T15:05:37.350Z",
     "iopub.status.busy": "2022-09-07T15:05:37.326Z",
     "iopub.status.idle": "2022-09-07T15:05:37.390Z",
     "shell.execute_reply": "2022-09-07T15:05:37.420Z"
    },
    "jupyter": {
     "outputs_hidden": false,
     "source_hidden": false
    }
   },
   "outputs": [
    {
     "ename": "KeyError",
     "evalue": "1",
     "output_type": "error",
     "traceback": [
      "\u001b[1;31m---------------------------------------------------------------------------\u001b[0m",
      "\u001b[1;31mKeyError\u001b[0m                                  Traceback (most recent call last)",
      "\u001b[1;32m<ipython-input-112-fe88f532b882>\u001b[0m in \u001b[0;36m<module>\u001b[1;34m\u001b[0m\n\u001b[0;32m      7\u001b[0m     \u001b[1;34m\"4x4/4-wheeldrive\"\u001b[0m\u001b[1;33m:\u001b[0m \u001b[1;36m4\u001b[0m\u001b[1;33m,\u001b[0m\u001b[1;33m\u001b[0m\u001b[1;33m\u001b[0m\u001b[0m\n\u001b[0;32m      8\u001b[0m }\n\u001b[1;32m----> 9\u001b[1;33m \u001b[0mdata\u001b[0m\u001b[1;33m.\u001b[0m\u001b[0mdrive\u001b[0m \u001b[1;33m=\u001b[0m \u001b[0mdata\u001b[0m\u001b[1;33m.\u001b[0m\u001b[0mdrive\u001b[0m\u001b[1;33m.\u001b[0m\u001b[0mapply\u001b[0m\u001b[1;33m(\u001b[0m\u001b[1;32mlambda\u001b[0m \u001b[0mx\u001b[0m \u001b[1;33m:\u001b[0m \u001b[0mdrive_map\u001b[0m\u001b[1;33m[\u001b[0m\u001b[0mx\u001b[0m\u001b[1;33m]\u001b[0m\u001b[1;33m)\u001b[0m\u001b[1;33m\u001b[0m\u001b[1;33m\u001b[0m\u001b[0m\n\u001b[0m",
      "\u001b[1;32mC:\\Users\\Downloads\\anaconda3\\lib\\site-packages\\pandas\\core\\series.py\u001b[0m in \u001b[0;36mapply\u001b[1;34m(self, func, convert_dtype, args, **kwds)\u001b[0m\n\u001b[0;32m   4136\u001b[0m             \u001b[1;32melse\u001b[0m\u001b[1;33m:\u001b[0m\u001b[1;33m\u001b[0m\u001b[1;33m\u001b[0m\u001b[0m\n\u001b[0;32m   4137\u001b[0m                 \u001b[0mvalues\u001b[0m \u001b[1;33m=\u001b[0m \u001b[0mself\u001b[0m\u001b[1;33m.\u001b[0m\u001b[0mastype\u001b[0m\u001b[1;33m(\u001b[0m\u001b[0mobject\u001b[0m\u001b[1;33m)\u001b[0m\u001b[1;33m.\u001b[0m\u001b[0m_values\u001b[0m\u001b[1;33m\u001b[0m\u001b[1;33m\u001b[0m\u001b[0m\n\u001b[1;32m-> 4138\u001b[1;33m                 \u001b[0mmapped\u001b[0m \u001b[1;33m=\u001b[0m \u001b[0mlib\u001b[0m\u001b[1;33m.\u001b[0m\u001b[0mmap_infer\u001b[0m\u001b[1;33m(\u001b[0m\u001b[0mvalues\u001b[0m\u001b[1;33m,\u001b[0m \u001b[0mf\u001b[0m\u001b[1;33m,\u001b[0m \u001b[0mconvert\u001b[0m\u001b[1;33m=\u001b[0m\u001b[0mconvert_dtype\u001b[0m\u001b[1;33m)\u001b[0m\u001b[1;33m\u001b[0m\u001b[1;33m\u001b[0m\u001b[0m\n\u001b[0m\u001b[0;32m   4139\u001b[0m \u001b[1;33m\u001b[0m\u001b[0m\n\u001b[0;32m   4140\u001b[0m         \u001b[1;32mif\u001b[0m \u001b[0mlen\u001b[0m\u001b[1;33m(\u001b[0m\u001b[0mmapped\u001b[0m\u001b[1;33m)\u001b[0m \u001b[1;32mand\u001b[0m \u001b[0misinstance\u001b[0m\u001b[1;33m(\u001b[0m\u001b[0mmapped\u001b[0m\u001b[1;33m[\u001b[0m\u001b[1;36m0\u001b[0m\u001b[1;33m]\u001b[0m\u001b[1;33m,\u001b[0m \u001b[0mSeries\u001b[0m\u001b[1;33m)\u001b[0m\u001b[1;33m:\u001b[0m\u001b[1;33m\u001b[0m\u001b[1;33m\u001b[0m\u001b[0m\n",
      "\u001b[1;32mpandas\\_libs\\lib.pyx\u001b[0m in \u001b[0;36mpandas._libs.lib.map_infer\u001b[1;34m()\u001b[0m\n",
      "\u001b[1;32m<ipython-input-112-fe88f532b882>\u001b[0m in \u001b[0;36m<lambda>\u001b[1;34m(x)\u001b[0m\n\u001b[0;32m      7\u001b[0m     \u001b[1;34m\"4x4/4-wheeldrive\"\u001b[0m\u001b[1;33m:\u001b[0m \u001b[1;36m4\u001b[0m\u001b[1;33m,\u001b[0m\u001b[1;33m\u001b[0m\u001b[1;33m\u001b[0m\u001b[0m\n\u001b[0;32m      8\u001b[0m }\n\u001b[1;32m----> 9\u001b[1;33m \u001b[0mdata\u001b[0m\u001b[1;33m.\u001b[0m\u001b[0mdrive\u001b[0m \u001b[1;33m=\u001b[0m \u001b[0mdata\u001b[0m\u001b[1;33m.\u001b[0m\u001b[0mdrive\u001b[0m\u001b[1;33m.\u001b[0m\u001b[0mapply\u001b[0m\u001b[1;33m(\u001b[0m\u001b[1;32mlambda\u001b[0m \u001b[0mx\u001b[0m \u001b[1;33m:\u001b[0m \u001b[0mdrive_map\u001b[0m\u001b[1;33m[\u001b[0m\u001b[0mx\u001b[0m\u001b[1;33m]\u001b[0m\u001b[1;33m)\u001b[0m\u001b[1;33m\u001b[0m\u001b[1;33m\u001b[0m\u001b[0m\n\u001b[0m",
      "\u001b[1;31mKeyError\u001b[0m: 1"
     ]
    }
   ],
   "source": [
    "# data.drive.unique()\n",
    "\n",
    "drive_map = {\n",
    "    \"RWD\" : 1,\n",
    "    \"FWD\" : 2,\n",
    "    \"AWD\" : 3,\n",
    "    \"4x4/4-wheeldrive\": 4,\n",
    "}\n",
    "data.drive = data.drive.apply(lambda x : drive_map[x])"
   ]
  },
  {
   "cell_type": "code",
   "execution_count": null,
   "id": "10f91be3-0910-4512-a24b-a54f1cbd8052",
   "metadata": {
    "execution": {
     "iopub.execute_input": "2022-09-07T15:05:38.046Z",
     "iopub.status.busy": "2022-09-07T15:05:38.023Z",
     "iopub.status.idle": "2022-09-07T15:05:38.136Z",
     "shell.execute_reply": "2022-09-07T15:05:38.160Z"
    },
    "jupyter": {
     "outputs_hidden": false,
     "source_hidden": false
    },
    "nteract": {
     "transient": {
      "deleting": false
     }
    }
   },
   "outputs": [],
   "source": []
  },
  {
   "cell_type": "code",
   "execution_count": 113,
   "id": "aaff15a0",
   "metadata": {
    "execution": {
     "iopub.execute_input": "2022-09-07T15:05:38.900Z",
     "iopub.status.busy": "2022-09-07T15:05:38.878Z",
     "iopub.status.idle": "2022-09-07T15:05:38.941Z",
     "shell.execute_reply": "2022-09-07T15:05:38.967Z"
    },
    "jupyter": {
     "outputs_hidden": false,
     "source_hidden": false
    }
   },
   "outputs": [
    {
     "ename": "KeyError",
     "evalue": "1",
     "output_type": "error",
     "traceback": [
      "\u001b[1;31m---------------------------------------------------------------------------\u001b[0m",
      "\u001b[1;31mKeyError\u001b[0m                                  Traceback (most recent call last)",
      "\u001b[1;32m<ipython-input-113-a1713d0d2821>\u001b[0m in \u001b[0;36m<module>\u001b[1;34m\u001b[0m\n\u001b[0;32m     10\u001b[0m }\n\u001b[0;32m     11\u001b[0m \u001b[1;33m\u001b[0m\u001b[0m\n\u001b[1;32m---> 12\u001b[1;33m \u001b[0mdata\u001b[0m\u001b[1;33m.\u001b[0m\u001b[0mcolor\u001b[0m \u001b[1;33m=\u001b[0m \u001b[0mdata\u001b[0m\u001b[1;33m.\u001b[0m\u001b[0mcolor\u001b[0m\u001b[1;33m.\u001b[0m\u001b[0mapply\u001b[0m\u001b[1;33m(\u001b[0m\u001b[1;32mlambda\u001b[0m \u001b[0mx\u001b[0m\u001b[1;33m:\u001b[0m \u001b[0mcolor_map\u001b[0m\u001b[1;33m[\u001b[0m\u001b[0mx\u001b[0m\u001b[1;33m]\u001b[0m\u001b[1;33m)\u001b[0m\u001b[1;33m\u001b[0m\u001b[1;33m\u001b[0m\u001b[0m\n\u001b[0m",
      "\u001b[1;32mC:\\Users\\Downloads\\anaconda3\\lib\\site-packages\\pandas\\core\\series.py\u001b[0m in \u001b[0;36mapply\u001b[1;34m(self, func, convert_dtype, args, **kwds)\u001b[0m\n\u001b[0;32m   4136\u001b[0m             \u001b[1;32melse\u001b[0m\u001b[1;33m:\u001b[0m\u001b[1;33m\u001b[0m\u001b[1;33m\u001b[0m\u001b[0m\n\u001b[0;32m   4137\u001b[0m                 \u001b[0mvalues\u001b[0m \u001b[1;33m=\u001b[0m \u001b[0mself\u001b[0m\u001b[1;33m.\u001b[0m\u001b[0mastype\u001b[0m\u001b[1;33m(\u001b[0m\u001b[0mobject\u001b[0m\u001b[1;33m)\u001b[0m\u001b[1;33m.\u001b[0m\u001b[0m_values\u001b[0m\u001b[1;33m\u001b[0m\u001b[1;33m\u001b[0m\u001b[0m\n\u001b[1;32m-> 4138\u001b[1;33m                 \u001b[0mmapped\u001b[0m \u001b[1;33m=\u001b[0m \u001b[0mlib\u001b[0m\u001b[1;33m.\u001b[0m\u001b[0mmap_infer\u001b[0m\u001b[1;33m(\u001b[0m\u001b[0mvalues\u001b[0m\u001b[1;33m,\u001b[0m \u001b[0mf\u001b[0m\u001b[1;33m,\u001b[0m \u001b[0mconvert\u001b[0m\u001b[1;33m=\u001b[0m\u001b[0mconvert_dtype\u001b[0m\u001b[1;33m)\u001b[0m\u001b[1;33m\u001b[0m\u001b[1;33m\u001b[0m\u001b[0m\n\u001b[0m\u001b[0;32m   4139\u001b[0m \u001b[1;33m\u001b[0m\u001b[0m\n\u001b[0;32m   4140\u001b[0m         \u001b[1;32mif\u001b[0m \u001b[0mlen\u001b[0m\u001b[1;33m(\u001b[0m\u001b[0mmapped\u001b[0m\u001b[1;33m)\u001b[0m \u001b[1;32mand\u001b[0m \u001b[0misinstance\u001b[0m\u001b[1;33m(\u001b[0m\u001b[0mmapped\u001b[0m\u001b[1;33m[\u001b[0m\u001b[1;36m0\u001b[0m\u001b[1;33m]\u001b[0m\u001b[1;33m,\u001b[0m \u001b[0mSeries\u001b[0m\u001b[1;33m)\u001b[0m\u001b[1;33m:\u001b[0m\u001b[1;33m\u001b[0m\u001b[1;33m\u001b[0m\u001b[0m\n",
      "\u001b[1;32mpandas\\_libs\\lib.pyx\u001b[0m in \u001b[0;36mpandas._libs.lib.map_infer\u001b[1;34m()\u001b[0m\n",
      "\u001b[1;32m<ipython-input-113-a1713d0d2821>\u001b[0m in \u001b[0;36m<lambda>\u001b[1;34m(x)\u001b[0m\n\u001b[0;32m     10\u001b[0m }\n\u001b[0;32m     11\u001b[0m \u001b[1;33m\u001b[0m\u001b[0m\n\u001b[1;32m---> 12\u001b[1;33m \u001b[0mdata\u001b[0m\u001b[1;33m.\u001b[0m\u001b[0mcolor\u001b[0m \u001b[1;33m=\u001b[0m \u001b[0mdata\u001b[0m\u001b[1;33m.\u001b[0m\u001b[0mcolor\u001b[0m\u001b[1;33m.\u001b[0m\u001b[0mapply\u001b[0m\u001b[1;33m(\u001b[0m\u001b[1;32mlambda\u001b[0m \u001b[0mx\u001b[0m\u001b[1;33m:\u001b[0m \u001b[0mcolor_map\u001b[0m\u001b[1;33m[\u001b[0m\u001b[0mx\u001b[0m\u001b[1;33m]\u001b[0m\u001b[1;33m)\u001b[0m\u001b[1;33m\u001b[0m\u001b[1;33m\u001b[0m\u001b[0m\n\u001b[0m",
      "\u001b[1;31mKeyError\u001b[0m: 1"
     ]
    }
   ],
   "source": [
    "# data.color.unique()\n",
    "color_map = {\n",
    "    \"Silver\": 1,\n",
    "    \"Red\": 2,\n",
    "    \"Blue\": 3,\n",
    "    \"Black\": 4,\n",
    "    \"Gray\": 5,\n",
    "    \"White\": 6,\n",
    "    \"Other\": 7,\n",
    "}\n",
    "\n",
    "data.color = data.color.apply(lambda x: color_map[x])"
   ]
  },
  {
   "cell_type": "code",
   "execution_count": null,
   "id": "3e633214-45d0-4ab7-809a-20980afac95e",
   "metadata": {
    "execution": {
     "iopub.execute_input": "2022-09-07T15:05:39.412Z",
     "iopub.status.busy": "2022-09-07T15:05:39.378Z",
     "iopub.status.idle": "2022-09-07T15:05:39.470Z",
     "shell.execute_reply": "2022-09-07T15:05:39.495Z"
    },
    "jupyter": {
     "outputs_hidden": false,
     "source_hidden": false
    },
    "nteract": {
     "transient": {
      "deleting": false
     }
    }
   },
   "outputs": [],
   "source": []
  },
  {
   "cell_type": "code",
   "execution_count": null,
   "id": "3ae3bfb5-5b9d-4acc-828e-ef20ff172655",
   "metadata": {
    "jupyter": {
     "outputs_hidden": false,
     "source_hidden": false
    },
    "nteract": {
     "transient": {
      "deleting": false
     }
    }
   },
   "outputs": [],
   "source": []
  },
  {
   "cell_type": "code",
   "execution_count": 114,
   "id": "f1c60930",
   "metadata": {
    "execution": {
     "iopub.execute_input": "2022-09-07T15:05:49.679Z",
     "iopub.status.busy": "2022-09-07T15:05:49.650Z",
     "iopub.status.idle": "2022-09-07T15:05:49.721Z",
     "shell.execute_reply": "2022-09-07T15:05:49.745Z"
    },
    "jupyter": {
     "outputs_hidden": false,
     "source_hidden": false
    }
   },
   "outputs": [
    {
     "ename": "KeyError",
     "evalue": "0",
     "output_type": "error",
     "traceback": [
      "\u001b[1;31m---------------------------------------------------------------------------\u001b[0m",
      "\u001b[1;31mKeyError\u001b[0m                                  Traceback (most recent call last)",
      "\u001b[1;32m<ipython-input-114-5269f771e647>\u001b[0m in \u001b[0;36m<module>\u001b[1;34m\u001b[0m\n\u001b[0;32m      6\u001b[0m     }\n\u001b[0;32m      7\u001b[0m \u001b[1;33m\u001b[0m\u001b[0m\n\u001b[1;32m----> 8\u001b[1;33m \u001b[0mdata\u001b[0m\u001b[1;33m.\u001b[0m\u001b[0mtransmission\u001b[0m \u001b[1;33m=\u001b[0m \u001b[0mdata\u001b[0m\u001b[1;33m.\u001b[0m\u001b[0mtransmission\u001b[0m\u001b[1;33m.\u001b[0m\u001b[0mapply\u001b[0m\u001b[1;33m(\u001b[0m\u001b[1;32mlambda\u001b[0m \u001b[0mx\u001b[0m\u001b[1;33m:\u001b[0m \u001b[0mtrans_map\u001b[0m\u001b[1;33m[\u001b[0m\u001b[0mx\u001b[0m\u001b[1;33m]\u001b[0m\u001b[1;33m)\u001b[0m\u001b[1;33m\u001b[0m\u001b[1;33m\u001b[0m\u001b[0m\n\u001b[0m",
      "\u001b[1;32mC:\\Users\\Downloads\\anaconda3\\lib\\site-packages\\pandas\\core\\series.py\u001b[0m in \u001b[0;36mapply\u001b[1;34m(self, func, convert_dtype, args, **kwds)\u001b[0m\n\u001b[0;32m   4136\u001b[0m             \u001b[1;32melse\u001b[0m\u001b[1;33m:\u001b[0m\u001b[1;33m\u001b[0m\u001b[1;33m\u001b[0m\u001b[0m\n\u001b[0;32m   4137\u001b[0m                 \u001b[0mvalues\u001b[0m \u001b[1;33m=\u001b[0m \u001b[0mself\u001b[0m\u001b[1;33m.\u001b[0m\u001b[0mastype\u001b[0m\u001b[1;33m(\u001b[0m\u001b[0mobject\u001b[0m\u001b[1;33m)\u001b[0m\u001b[1;33m.\u001b[0m\u001b[0m_values\u001b[0m\u001b[1;33m\u001b[0m\u001b[1;33m\u001b[0m\u001b[0m\n\u001b[1;32m-> 4138\u001b[1;33m                 \u001b[0mmapped\u001b[0m \u001b[1;33m=\u001b[0m \u001b[0mlib\u001b[0m\u001b[1;33m.\u001b[0m\u001b[0mmap_infer\u001b[0m\u001b[1;33m(\u001b[0m\u001b[0mvalues\u001b[0m\u001b[1;33m,\u001b[0m \u001b[0mf\u001b[0m\u001b[1;33m,\u001b[0m \u001b[0mconvert\u001b[0m\u001b[1;33m=\u001b[0m\u001b[0mconvert_dtype\u001b[0m\u001b[1;33m)\u001b[0m\u001b[1;33m\u001b[0m\u001b[1;33m\u001b[0m\u001b[0m\n\u001b[0m\u001b[0;32m   4139\u001b[0m \u001b[1;33m\u001b[0m\u001b[0m\n\u001b[0;32m   4140\u001b[0m         \u001b[1;32mif\u001b[0m \u001b[0mlen\u001b[0m\u001b[1;33m(\u001b[0m\u001b[0mmapped\u001b[0m\u001b[1;33m)\u001b[0m \u001b[1;32mand\u001b[0m \u001b[0misinstance\u001b[0m\u001b[1;33m(\u001b[0m\u001b[0mmapped\u001b[0m\u001b[1;33m[\u001b[0m\u001b[1;36m0\u001b[0m\u001b[1;33m]\u001b[0m\u001b[1;33m,\u001b[0m \u001b[0mSeries\u001b[0m\u001b[1;33m)\u001b[0m\u001b[1;33m:\u001b[0m\u001b[1;33m\u001b[0m\u001b[1;33m\u001b[0m\u001b[0m\n",
      "\u001b[1;32mpandas\\_libs\\lib.pyx\u001b[0m in \u001b[0;36mpandas._libs.lib.map_infer\u001b[1;34m()\u001b[0m\n",
      "\u001b[1;32m<ipython-input-114-5269f771e647>\u001b[0m in \u001b[0;36m<lambda>\u001b[1;34m(x)\u001b[0m\n\u001b[0;32m      6\u001b[0m     }\n\u001b[0;32m      7\u001b[0m \u001b[1;33m\u001b[0m\u001b[0m\n\u001b[1;32m----> 8\u001b[1;33m \u001b[0mdata\u001b[0m\u001b[1;33m.\u001b[0m\u001b[0mtransmission\u001b[0m \u001b[1;33m=\u001b[0m \u001b[0mdata\u001b[0m\u001b[1;33m.\u001b[0m\u001b[0mtransmission\u001b[0m\u001b[1;33m.\u001b[0m\u001b[0mapply\u001b[0m\u001b[1;33m(\u001b[0m\u001b[1;32mlambda\u001b[0m \u001b[0mx\u001b[0m\u001b[1;33m:\u001b[0m \u001b[0mtrans_map\u001b[0m\u001b[1;33m[\u001b[0m\u001b[0mx\u001b[0m\u001b[1;33m]\u001b[0m\u001b[1;33m)\u001b[0m\u001b[1;33m\u001b[0m\u001b[1;33m\u001b[0m\u001b[0m\n\u001b[0m",
      "\u001b[1;31mKeyError\u001b[0m: 0"
     ]
    }
   ],
   "source": [
    " #data.transmission.unique()\n",
    "trans_map = {\n",
    "    \"Automatic\":  0,\n",
    "    \"CVT\": 1,\n",
    "    \"Manual\": 2,\n",
    "     }\n",
    "\n",
    "data.transmission = data.transmission.apply(lambda x: trans_map[x])"
   ]
  },
  {
   "cell_type": "code",
   "execution_count": 115,
   "id": "17d496a6-c117-4fef-9f12-49f8dffa4e85",
   "metadata": {
    "execution": {
     "iopub.execute_input": "2022-09-07T15:05:50.671Z",
     "iopub.status.busy": "2022-09-07T15:05:50.646Z",
     "iopub.status.idle": "2022-09-07T13:58:20.377Z",
     "shell.execute_reply": "2022-09-07T15:04:48.410Z"
    },
    "jupyter": {
     "outputs_hidden": false,
     "source_hidden": false
    },
    "nteract": {
     "transient": {
      "deleting": false
     }
    }
   },
   "outputs": [],
   "source": [
    "#since all data are now integers, I can coreelate them "
   ]
  },
  {
   "cell_type": "code",
   "execution_count": 116,
   "id": "19af0a66",
   "metadata": {
    "execution": {
     "iopub.execute_input": "2022-09-07T15:05:52.111Z",
     "iopub.status.busy": "2022-09-07T15:05:52.091Z",
     "iopub.status.idle": "2022-09-07T15:05:52.194Z",
     "shell.execute_reply": "2022-09-07T15:05:52.215Z"
    },
    "jupyter": {
     "outputs_hidden": false,
     "source_hidden": false
    }
   },
   "outputs": [
    {
     "data": {
      "text/html": [
       "<div>\n",
       "<style scoped>\n",
       "    .dataframe tbody tr th:only-of-type {\n",
       "        vertical-align: middle;\n",
       "    }\n",
       "\n",
       "    .dataframe tbody tr th {\n",
       "        vertical-align: top;\n",
       "    }\n",
       "\n",
       "    .dataframe thead th {\n",
       "        text-align: right;\n",
       "    }\n",
       "</style>\n",
       "<table border=\"1\" class=\"dataframe\">\n",
       "  <thead>\n",
       "    <tr style=\"text-align: right;\">\n",
       "      <th></th>\n",
       "      <th>year</th>\n",
       "      <th>brand</th>\n",
       "      <th>price</th>\n",
       "      <th>ratings</th>\n",
       "      <th>color</th>\n",
       "      <th>drive</th>\n",
       "      <th>transmission</th>\n",
       "    </tr>\n",
       "  </thead>\n",
       "  <tbody>\n",
       "    <tr>\n",
       "      <th>year</th>\n",
       "      <td>1.000000</td>\n",
       "      <td>0.027324</td>\n",
       "      <td>0.162633</td>\n",
       "      <td>0.024353</td>\n",
       "      <td>0.041520</td>\n",
       "      <td>0.064813</td>\n",
       "      <td>-0.031103</td>\n",
       "    </tr>\n",
       "    <tr>\n",
       "      <th>brand</th>\n",
       "      <td>0.027324</td>\n",
       "      <td>1.000000</td>\n",
       "      <td>0.099850</td>\n",
       "      <td>-0.141302</td>\n",
       "      <td>0.314606</td>\n",
       "      <td>0.181128</td>\n",
       "      <td>0.432756</td>\n",
       "    </tr>\n",
       "    <tr>\n",
       "      <th>price</th>\n",
       "      <td>0.162633</td>\n",
       "      <td>0.099850</td>\n",
       "      <td>1.000000</td>\n",
       "      <td>0.027578</td>\n",
       "      <td>0.015849</td>\n",
       "      <td>-0.140553</td>\n",
       "      <td>0.059633</td>\n",
       "    </tr>\n",
       "    <tr>\n",
       "      <th>ratings</th>\n",
       "      <td>0.024353</td>\n",
       "      <td>-0.141302</td>\n",
       "      <td>0.027578</td>\n",
       "      <td>1.000000</td>\n",
       "      <td>0.160176</td>\n",
       "      <td>-0.373465</td>\n",
       "      <td>0.094417</td>\n",
       "    </tr>\n",
       "    <tr>\n",
       "      <th>color</th>\n",
       "      <td>0.041520</td>\n",
       "      <td>0.314606</td>\n",
       "      <td>0.015849</td>\n",
       "      <td>0.160176</td>\n",
       "      <td>1.000000</td>\n",
       "      <td>0.366377</td>\n",
       "      <td>0.118406</td>\n",
       "    </tr>\n",
       "    <tr>\n",
       "      <th>drive</th>\n",
       "      <td>0.064813</td>\n",
       "      <td>0.181128</td>\n",
       "      <td>-0.140553</td>\n",
       "      <td>-0.373465</td>\n",
       "      <td>0.366377</td>\n",
       "      <td>1.000000</td>\n",
       "      <td>-0.161173</td>\n",
       "    </tr>\n",
       "    <tr>\n",
       "      <th>transmission</th>\n",
       "      <td>-0.031103</td>\n",
       "      <td>0.432756</td>\n",
       "      <td>0.059633</td>\n",
       "      <td>0.094417</td>\n",
       "      <td>0.118406</td>\n",
       "      <td>-0.161173</td>\n",
       "      <td>1.000000</td>\n",
       "    </tr>\n",
       "  </tbody>\n",
       "</table>\n",
       "</div>"
      ],
      "text/plain": [
       "                  year     brand     price   ratings     color     drive  \\\n",
       "year          1.000000  0.027324  0.162633  0.024353  0.041520  0.064813   \n",
       "brand         0.027324  1.000000  0.099850 -0.141302  0.314606  0.181128   \n",
       "price         0.162633  0.099850  1.000000  0.027578  0.015849 -0.140553   \n",
       "ratings       0.024353 -0.141302  0.027578  1.000000  0.160176 -0.373465   \n",
       "color         0.041520  0.314606  0.015849  0.160176  1.000000  0.366377   \n",
       "drive         0.064813  0.181128 -0.140553 -0.373465  0.366377  1.000000   \n",
       "transmission -0.031103  0.432756  0.059633  0.094417  0.118406 -0.161173   \n",
       "\n",
       "              transmission  \n",
       "year             -0.031103  \n",
       "brand             0.432756  \n",
       "price             0.059633  \n",
       "ratings           0.094417  \n",
       "color             0.118406  \n",
       "drive            -0.161173  \n",
       "transmission      1.000000  "
      ]
     },
     "execution_count": 116,
     "metadata": {},
     "output_type": "execute_result"
    }
   ],
   "source": [
    "data.corr()"
   ]
  },
  {
   "cell_type": "code",
   "execution_count": 98,
   "id": "d284447b",
   "metadata": {
    "execution": {
     "iopub.execute_input": "2022-09-07T15:05:52.727Z",
     "iopub.status.busy": "2022-09-07T15:05:52.707Z",
     "iopub.status.idle": "2022-09-07T15:05:52.811Z",
     "shell.execute_reply": "2022-09-07T15:05:52.832Z"
    },
    "jupyter": {
     "outputs_hidden": false,
     "source_hidden": false
    },
    "scrolled": true
   },
   "outputs": [
    {
     "data": {
      "text/html": [
       "<div>\n",
       "<style scoped>\n",
       "    .dataframe tbody tr th:only-of-type {\n",
       "        vertical-align: middle;\n",
       "    }\n",
       "\n",
       "    .dataframe tbody tr th {\n",
       "        vertical-align: top;\n",
       "    }\n",
       "\n",
       "    .dataframe thead th {\n",
       "        text-align: right;\n",
       "    }\n",
       "</style>\n",
       "<table border=\"1\" class=\"dataframe\">\n",
       "  <thead>\n",
       "    <tr style=\"text-align: right;\">\n",
       "      <th></th>\n",
       "      <th>year</th>\n",
       "      <th>brand</th>\n",
       "      <th>price</th>\n",
       "      <th>ratings</th>\n",
       "      <th>color</th>\n",
       "      <th>drive</th>\n",
       "      <th>transmission</th>\n",
       "    </tr>\n",
       "  </thead>\n",
       "  <tbody>\n",
       "    <tr>\n",
       "      <th>year</th>\n",
       "      <td>1.000000</td>\n",
       "      <td>0.011507</td>\n",
       "      <td>0.573147</td>\n",
       "      <td>0.053601</td>\n",
       "      <td>0.022053</td>\n",
       "      <td>0.030052</td>\n",
       "      <td>-0.023441</td>\n",
       "    </tr>\n",
       "    <tr>\n",
       "      <th>brand</th>\n",
       "      <td>0.011507</td>\n",
       "      <td>1.000000</td>\n",
       "      <td>0.159881</td>\n",
       "      <td>-0.173711</td>\n",
       "      <td>0.318689</td>\n",
       "      <td>0.132452</td>\n",
       "      <td>0.416559</td>\n",
       "    </tr>\n",
       "    <tr>\n",
       "      <th>price</th>\n",
       "      <td>0.573147</td>\n",
       "      <td>0.159881</td>\n",
       "      <td>1.000000</td>\n",
       "      <td>0.110345</td>\n",
       "      <td>0.020517</td>\n",
       "      <td>-0.171940</td>\n",
       "      <td>-0.059676</td>\n",
       "    </tr>\n",
       "    <tr>\n",
       "      <th>ratings</th>\n",
       "      <td>0.053601</td>\n",
       "      <td>-0.173711</td>\n",
       "      <td>0.110345</td>\n",
       "      <td>1.000000</td>\n",
       "      <td>0.283166</td>\n",
       "      <td>-0.257349</td>\n",
       "      <td>-0.056859</td>\n",
       "    </tr>\n",
       "    <tr>\n",
       "      <th>color</th>\n",
       "      <td>0.022053</td>\n",
       "      <td>0.318689</td>\n",
       "      <td>0.020517</td>\n",
       "      <td>0.283166</td>\n",
       "      <td>1.000000</td>\n",
       "      <td>0.338763</td>\n",
       "      <td>0.077140</td>\n",
       "    </tr>\n",
       "    <tr>\n",
       "      <th>drive</th>\n",
       "      <td>0.030052</td>\n",
       "      <td>0.132452</td>\n",
       "      <td>-0.171940</td>\n",
       "      <td>-0.257349</td>\n",
       "      <td>0.338763</td>\n",
       "      <td>1.000000</td>\n",
       "      <td>-0.107167</td>\n",
       "    </tr>\n",
       "    <tr>\n",
       "      <th>transmission</th>\n",
       "      <td>-0.023441</td>\n",
       "      <td>0.416559</td>\n",
       "      <td>-0.059676</td>\n",
       "      <td>-0.056859</td>\n",
       "      <td>0.077140</td>\n",
       "      <td>-0.107167</td>\n",
       "      <td>1.000000</td>\n",
       "    </tr>\n",
       "  </tbody>\n",
       "</table>\n",
       "</div>"
      ],
      "text/plain": [
       "                  year     brand     price   ratings     color     drive  \\\n",
       "year          1.000000  0.011507  0.573147  0.053601  0.022053  0.030052   \n",
       "brand         0.011507  1.000000  0.159881 -0.173711  0.318689  0.132452   \n",
       "price         0.573147  0.159881  1.000000  0.110345  0.020517 -0.171940   \n",
       "ratings       0.053601 -0.173711  0.110345  1.000000  0.283166 -0.257349   \n",
       "color         0.022053  0.318689  0.020517  0.283166  1.000000  0.338763   \n",
       "drive         0.030052  0.132452 -0.171940 -0.257349  0.338763  1.000000   \n",
       "transmission -0.023441  0.416559 -0.059676 -0.056859  0.077140 -0.107167   \n",
       "\n",
       "              transmission  \n",
       "year             -0.023441  \n",
       "brand             0.416559  \n",
       "price            -0.059676  \n",
       "ratings          -0.056859  \n",
       "color             0.077140  \n",
       "drive            -0.107167  \n",
       "transmission      1.000000  "
      ]
     },
     "execution_count": 98,
     "metadata": {},
     "output_type": "execute_result"
    }
   ],
   "source": [
    "##correlating using a different principle\n",
    "data.corr('spearman')"
   ]
  },
  {
   "cell_type": "code",
   "execution_count": 99,
   "id": "6cfdd622",
   "metadata": {
    "execution": {
     "iopub.execute_input": "2022-09-07T15:05:53.567Z",
     "iopub.status.busy": "2022-09-07T15:05:53.545Z",
     "iopub.status.idle": "2022-09-07T15:05:53.653Z",
     "shell.execute_reply": "2022-09-07T15:05:53.674Z"
    },
    "jupyter": {
     "outputs_hidden": false,
     "source_hidden": false
    }
   },
   "outputs": [
    {
     "data": {
      "text/html": [
       "<div>\n",
       "<style scoped>\n",
       "    .dataframe tbody tr th:only-of-type {\n",
       "        vertical-align: middle;\n",
       "    }\n",
       "\n",
       "    .dataframe tbody tr th {\n",
       "        vertical-align: top;\n",
       "    }\n",
       "\n",
       "    .dataframe thead th {\n",
       "        text-align: right;\n",
       "    }\n",
       "</style>\n",
       "<table border=\"1\" class=\"dataframe\">\n",
       "  <thead>\n",
       "    <tr style=\"text-align: right;\">\n",
       "      <th></th>\n",
       "      <th>year</th>\n",
       "      <th>brand</th>\n",
       "      <th>price</th>\n",
       "      <th>ratings</th>\n",
       "      <th>color</th>\n",
       "      <th>drive</th>\n",
       "      <th>transmission</th>\n",
       "    </tr>\n",
       "  </thead>\n",
       "  <tbody>\n",
       "    <tr>\n",
       "      <th>year</th>\n",
       "      <td>1.000000</td>\n",
       "      <td>0.027324</td>\n",
       "      <td>0.162633</td>\n",
       "      <td>0.024353</td>\n",
       "      <td>0.041520</td>\n",
       "      <td>0.064813</td>\n",
       "      <td>-0.031103</td>\n",
       "    </tr>\n",
       "    <tr>\n",
       "      <th>brand</th>\n",
       "      <td>0.027324</td>\n",
       "      <td>1.000000</td>\n",
       "      <td>0.099850</td>\n",
       "      <td>-0.141302</td>\n",
       "      <td>0.314606</td>\n",
       "      <td>0.181128</td>\n",
       "      <td>0.432756</td>\n",
       "    </tr>\n",
       "    <tr>\n",
       "      <th>price</th>\n",
       "      <td>0.162633</td>\n",
       "      <td>0.099850</td>\n",
       "      <td>1.000000</td>\n",
       "      <td>0.027578</td>\n",
       "      <td>0.015849</td>\n",
       "      <td>-0.140553</td>\n",
       "      <td>0.059633</td>\n",
       "    </tr>\n",
       "    <tr>\n",
       "      <th>ratings</th>\n",
       "      <td>0.024353</td>\n",
       "      <td>-0.141302</td>\n",
       "      <td>0.027578</td>\n",
       "      <td>1.000000</td>\n",
       "      <td>0.160176</td>\n",
       "      <td>-0.373465</td>\n",
       "      <td>0.094417</td>\n",
       "    </tr>\n",
       "    <tr>\n",
       "      <th>color</th>\n",
       "      <td>0.041520</td>\n",
       "      <td>0.314606</td>\n",
       "      <td>0.015849</td>\n",
       "      <td>0.160176</td>\n",
       "      <td>1.000000</td>\n",
       "      <td>0.366377</td>\n",
       "      <td>0.118406</td>\n",
       "    </tr>\n",
       "    <tr>\n",
       "      <th>drive</th>\n",
       "      <td>0.064813</td>\n",
       "      <td>0.181128</td>\n",
       "      <td>-0.140553</td>\n",
       "      <td>-0.373465</td>\n",
       "      <td>0.366377</td>\n",
       "      <td>1.000000</td>\n",
       "      <td>-0.161173</td>\n",
       "    </tr>\n",
       "    <tr>\n",
       "      <th>transmission</th>\n",
       "      <td>-0.031103</td>\n",
       "      <td>0.432756</td>\n",
       "      <td>0.059633</td>\n",
       "      <td>0.094417</td>\n",
       "      <td>0.118406</td>\n",
       "      <td>-0.161173</td>\n",
       "      <td>1.000000</td>\n",
       "    </tr>\n",
       "  </tbody>\n",
       "</table>\n",
       "</div>"
      ],
      "text/plain": [
       "                  year     brand     price   ratings     color     drive  \\\n",
       "year          1.000000  0.027324  0.162633  0.024353  0.041520  0.064813   \n",
       "brand         0.027324  1.000000  0.099850 -0.141302  0.314606  0.181128   \n",
       "price         0.162633  0.099850  1.000000  0.027578  0.015849 -0.140553   \n",
       "ratings       0.024353 -0.141302  0.027578  1.000000  0.160176 -0.373465   \n",
       "color         0.041520  0.314606  0.015849  0.160176  1.000000  0.366377   \n",
       "drive         0.064813  0.181128 -0.140553 -0.373465  0.366377  1.000000   \n",
       "transmission -0.031103  0.432756  0.059633  0.094417  0.118406 -0.161173   \n",
       "\n",
       "              transmission  \n",
       "year             -0.031103  \n",
       "brand             0.432756  \n",
       "price             0.059633  \n",
       "ratings           0.094417  \n",
       "color             0.118406  \n",
       "drive            -0.161173  \n",
       "transmission      1.000000  "
      ]
     },
     "execution_count": 99,
     "metadata": {},
     "output_type": "execute_result"
    }
   ],
   "source": [
    "#correlating using a different principle \n",
    "data.corr('pearson')"
   ]
  },
  {
   "cell_type": "code",
   "execution_count": null,
   "id": "330799d8",
   "metadata": {
    "execution": {
     "iopub.execute_input": "2022-09-07T13:59:38.789Z",
     "iopub.status.busy": "2022-09-07T13:59:38.772Z",
     "iopub.status.idle": "2022-09-07T13:59:38.832Z",
     "shell.execute_reply": "2022-09-07T13:59:38.357Z"
    },
    "jupyter": {
     "outputs_hidden": false,
     "source_hidden": false
    }
   },
   "outputs": [],
   "source": []
  },
  {
   "cell_type": "code",
   "execution_count": 100,
   "id": "bbdd2fa6",
   "metadata": {
    "execution": {
     "iopub.execute_input": "2022-09-07T13:59:38.878Z",
     "iopub.status.busy": "2022-09-07T13:59:38.862Z",
     "iopub.status.idle": "2022-09-07T13:59:38.922Z",
     "shell.execute_reply": "2022-09-07T13:59:38.376Z"
    },
    "jupyter": {
     "outputs_hidden": false,
     "source_hidden": false
    }
   },
   "outputs": [],
   "source": [
    "from xgboost import XGBRegressor as xgbr\n",
    "from sklearn import preprocessing, svm\n",
    "from sklearn.model_selection import train_test_split\n",
    "from sklearn.linear_model import LinearRegression\n",
    "from sklearn.metrics import r2_score, accuracy_score"
   ]
  },
  {
   "cell_type": "code",
   "execution_count": 101,
   "id": "da434787",
   "metadata": {
    "execution": {
     "iopub.execute_input": "2022-09-07T15:05:55.142Z",
     "iopub.status.busy": "2022-09-07T15:05:55.120Z",
     "iopub.status.idle": "2022-09-07T15:05:55.268Z",
     "shell.execute_reply": "2022-09-07T15:05:55.292Z"
    },
    "jupyter": {
     "outputs_hidden": false,
     "source_hidden": false
    }
   },
   "outputs": [],
   "source": [
    "#creating the instance of the model \n",
    "##OOP stuff , Yk \n",
    "xgbr_model = xgbr()"
   ]
  },
  {
   "cell_type": "code",
   "execution_count": 102,
   "id": "d216602c",
   "metadata": {
    "jupyter": {
     "outputs_hidden": false,
     "source_hidden": false
    }
   },
   "outputs": [],
   "source": [
    "final_data = data \n",
    "#creating variable si'll use to test and train the model\n",
    "x = final_data.price #dependent \n",
    "y = final_data.drop(['price','ratings'], axis=1)\n"
   ]
  },
  {
   "cell_type": "code",
   "execution_count": 103,
   "id": "513964c4",
   "metadata": {
    "jupyter": {
     "outputs_hidden": false,
     "source_hidden": false
    },
    "scrolled": true
   },
   "outputs": [
    {
     "data": {
      "text/plain": [
       "556395"
      ]
     },
     "execution_count": 103,
     "metadata": {},
     "output_type": "execute_result"
    }
   ],
   "source": [
    "y.size"
   ]
  },
  {
   "cell_type": "code",
   "execution_count": 104,
   "id": "badf3578",
   "metadata": {
    "jupyter": {
     "outputs_hidden": false,
     "source_hidden": false
    }
   },
   "outputs": [
    {
     "data": {
      "text/plain": [
       "111279"
      ]
     },
     "execution_count": 104,
     "metadata": {},
     "output_type": "execute_result"
    }
   ],
   "source": [
    "x.size"
   ]
  },
  {
   "cell_type": "code",
   "execution_count": 105,
   "id": "396cab97",
   "metadata": {
    "execution": {
     "iopub.execute_input": "2022-09-07T19:47:30.732Z",
     "iopub.status.busy": "2022-09-07T19:47:30.695Z",
     "iopub.status.idle": "2022-09-07T19:47:30.787Z",
     "shell.execute_reply": "2022-09-07T19:47:30.815Z"
    },
    "jupyter": {
     "outputs_hidden": false,
     "source_hidden": false
    }
   },
   "outputs": [],
   "source": [
    "#splitting into test and train sets "
   ]
  },
  {
   "cell_type": "code",
   "execution_count": 106,
   "id": "4ca9fbaa",
   "metadata": {
    "execution": {
     "iopub.execute_input": "2022-09-07T19:47:49.159Z",
     "iopub.status.busy": "2022-09-07T19:47:49.130Z",
     "shell.execute_reply": "2022-09-07T15:06:01.077Z"
    },
    "jupyter": {
     "outputs_hidden": false,
     "source_hidden": false
    }
   },
   "outputs": [],
   "source": [
    "x_train, x_test, y_train, y_test = train_test_split(x, y , test_size=0.3)"
   ]
  },
  {
   "cell_type": "code",
   "execution_count": 107,
   "id": "ed40a42a",
   "metadata": {},
   "outputs": [
    {
     "name": "stdout",
     "output_type": "stream",
     "text": [
      "length of training set :  77895\n",
      "length of testing set:  33384\n"
     ]
    }
   ],
   "source": [
    "#checking lengths of the test and train sets \n",
    "print('length of training set : ', len(x_train))\n",
    "print('length of testing set: ', len(x_test))"
   ]
  },
  {
   "cell_type": "code",
   "execution_count": 108,
   "id": "c9856cf4",
   "metadata": {},
   "outputs": [
    {
     "data": {
      "text/plain": [
       "XGBRegressor(base_score=0.5, booster='gbtree', callbacks=None,\n",
       "             colsample_bylevel=1, colsample_bynode=1, colsample_bytree=1,\n",
       "             early_stopping_rounds=None, enable_categorical=False,\n",
       "             eval_metric=None, gamma=0, gpu_id=-1, grow_policy='depthwise',\n",
       "             importance_type=None, interaction_constraints='',\n",
       "             learning_rate=0.300000012, max_bin=256, max_cat_to_onehot=4,\n",
       "             max_delta_step=0, max_depth=6, max_leaves=0, min_child_weight=1,\n",
       "             missing=nan, monotone_constraints='()', n_estimators=100, n_jobs=0,\n",
       "             num_parallel_tree=1, predictor='auto', random_state=0, reg_alpha=0,\n",
       "             reg_lambda=1, ...)"
      ]
     },
     "execution_count": 108,
     "metadata": {},
     "output_type": "execute_result"
    }
   ],
   "source": [
    "#fitting the training sets into the model\n",
    "xgbr_model.fit(x_train, y_train)\n"
   ]
  },
  {
   "cell_type": "code",
   "execution_count": 109,
   "id": "db69870f",
   "metadata": {},
   "outputs": [
    {
     "name": "stdout",
     "output_type": "stream",
     "text": [
      "Accuracy on test set: 53.25%\n",
      "Accuracy on train set: 53.78%\n"
     ]
    }
   ],
   "source": [
    "test = xgbr_model.predict(x_test)\n",
    "train = xgbr_model.predict(x_train)\n",
    "score1 = r2_score(y_test, test)\n",
    "score2 = r2_score(y_train, train)\n",
    "print(f'Accuracy on test set: {round(score1*100,2)}%')\n",
    "print(f'Accuracy on train set: {round(score2*100,2)}%')"
   ]
  },
  {
   "cell_type": "code",
   "execution_count": 69,
   "id": "8c67c37d",
   "metadata": {},
   "outputs": [
    {
     "data": {
      "text/plain": [
       "111279"
      ]
     },
     "execution_count": 69,
     "metadata": {},
     "output_type": "execute_result"
    }
   ],
   "source": []
  },
  {
   "cell_type": "markdown",
   "id": "d3729028",
   "metadata": {},
   "source": []
  },
  {
   "cell_type": "code",
   "execution_count": null,
   "id": "5c18efb6",
   "metadata": {
    "execution": {
     "iopub.execute_input": "2022-09-07T15:06:01.818Z",
     "iopub.status.busy": "2022-09-07T15:06:01.795Z",
     "iopub.status.idle": "2022-09-07T15:06:01.855Z",
     "shell.execute_reply": "2022-09-07T15:06:01.877Z"
    },
    "jupyter": {
     "outputs_hidden": false,
     "source_hidden": false
    }
   },
   "outputs": [],
   "source": []
  },
  {
   "cell_type": "code",
   "execution_count": 29,
   "id": "ffcd0bf3",
   "metadata": {
    "execution": {
     "iopub.execute_input": "2022-09-07T15:06:14.815Z",
     "iopub.status.busy": "2022-09-07T15:06:14.792Z",
     "iopub.status.idle": "2022-09-07T15:06:14.854Z",
     "shell.execute_reply": "2022-09-07T15:06:14.876Z"
    },
    "jupyter": {
     "outputs_hidden": false,
     "source_hidden": false
    }
   },
   "outputs": [],
   "source": []
  },
  {
   "cell_type": "code",
   "execution_count": 102,
   "id": "1b8a4386-46cc-4b26-9024-17ce1f5b424e",
   "metadata": {
    "execution": {
     "iopub.execute_input": "2022-09-07T15:06:15.564Z",
     "iopub.status.busy": "2022-09-07T15:06:15.543Z",
     "iopub.status.idle": "2022-09-07T15:06:15.657Z",
     "shell.execute_reply": "2022-09-07T15:06:15.678Z"
    },
    "jupyter": {
     "outputs_hidden": false,
     "source_hidden": false
    },
    "nteract": {
     "transient": {
      "deleting": false
     }
    }
   },
   "outputs": [],
   "source": []
  },
  {
   "cell_type": "code",
   "execution_count": null,
   "id": "48ac4d55-56d8-4d1b-9a39-0dedcb07e777",
   "metadata": {
    "execution": {
     "iopub.execute_input": "2022-09-07T15:06:35.630Z",
     "iopub.status.busy": "2022-09-07T15:06:35.609Z",
     "iopub.status.idle": "2022-09-07T15:06:35.666Z",
     "shell.execute_reply": "2022-09-07T15:06:35.688Z"
    },
    "jupyter": {
     "outputs_hidden": false,
     "source_hidden": false
    },
    "nteract": {
     "transient": {
      "deleting": false
     }
    }
   },
   "outputs": [],
   "source": []
  },
  {
   "cell_type": "code",
   "execution_count": null,
   "id": "4d733741-21ce-4f73-b3a1-36d51e9a3723",
   "metadata": {
    "execution": {
     "iopub.execute_input": "2022-09-07T15:07:12.159Z",
     "iopub.status.busy": "2022-09-07T15:07:12.135Z",
     "iopub.status.idle": "2022-09-07T15:07:12.207Z",
     "shell.execute_reply": "2022-09-07T15:07:12.231Z"
    },
    "jupyter": {
     "outputs_hidden": false,
     "source_hidden": false
    },
    "nteract": {
     "transient": {
      "deleting": false
     }
    }
   },
   "outputs": [],
   "source": []
  },
  {
   "cell_type": "code",
   "execution_count": null,
   "id": "f40ab103",
   "metadata": {},
   "outputs": [],
   "source": []
  },
  {
   "cell_type": "code",
   "execution_count": null,
   "id": "6855844c",
   "metadata": {
    "execution": {
     "iopub.execute_input": "2022-09-07T15:07:13.937Z",
     "iopub.status.busy": "2022-09-07T15:07:13.915Z",
     "iopub.status.idle": "2022-09-07T15:07:13.982Z",
     "shell.execute_reply": "2022-09-07T15:07:14.006Z"
    },
    "jupyter": {
     "outputs_hidden": false,
     "source_hidden": false
    }
   },
   "outputs": [],
   "source": []
  },
  {
   "cell_type": "code",
   "execution_count": null,
   "id": "fa841772",
   "metadata": {
    "execution": {
     "iopub.execute_input": "2022-09-07T15:07:14.547Z",
     "iopub.status.busy": "2022-09-07T15:07:14.525Z",
     "iopub.status.idle": "2022-09-07T15:07:14.586Z",
     "shell.execute_reply": "2022-09-07T15:07:14.610Z"
    },
    "jupyter": {
     "outputs_hidden": false,
     "source_hidden": false
    }
   },
   "outputs": [],
   "source": []
  },
  {
   "cell_type": "code",
   "execution_count": null,
   "id": "9f1e59b3",
   "metadata": {
    "execution": {
     "iopub.execute_input": "2022-09-07T15:08:40.534Z",
     "iopub.status.busy": "2022-09-07T15:08:40.513Z",
     "iopub.status.idle": "2022-09-07T15:08:40.576Z",
     "shell.execute_reply": "2022-09-07T15:08:40.600Z"
    },
    "jupyter": {
     "outputs_hidden": false,
     "source_hidden": false
    }
   },
   "outputs": [],
   "source": []
  },
  {
   "cell_type": "code",
   "execution_count": null,
   "id": "c16abbdf",
   "metadata": {
    "execution": {
     "iopub.execute_input": "2022-09-07T15:08:41.829Z",
     "iopub.status.busy": "2022-09-07T15:08:41.808Z",
     "iopub.status.idle": "2022-09-07T15:08:41.888Z",
     "shell.execute_reply": "2022-09-07T15:08:41.914Z"
    },
    "jupyter": {
     "outputs_hidden": false,
     "source_hidden": false
    }
   },
   "outputs": [],
   "source": []
  },
  {
   "cell_type": "code",
   "execution_count": null,
   "id": "06f87acb",
   "metadata": {
    "execution": {
     "iopub.execute_input": "2022-09-07T15:08:43.098Z",
     "iopub.status.busy": "2022-09-07T15:08:43.074Z",
     "iopub.status.idle": "2022-09-07T15:08:43.158Z",
     "shell.execute_reply": "2022-09-07T15:08:43.189Z"
    },
    "jupyter": {
     "outputs_hidden": false,
     "source_hidden": false
    }
   },
   "outputs": [],
   "source": []
  },
  {
   "cell_type": "code",
   "execution_count": null,
   "id": "8a03458d",
   "metadata": {
    "execution": {
     "iopub.execute_input": "2022-09-07T15:07:17.375Z",
     "iopub.status.busy": "2022-09-07T15:07:17.347Z",
     "iopub.status.idle": "2022-09-07T15:07:17.430Z",
     "shell.execute_reply": "2022-09-07T15:07:17.452Z"
    },
    "jupyter": {
     "outputs_hidden": false,
     "source_hidden": false
    }
   },
   "outputs": [],
   "source": []
  },
  {
   "cell_type": "code",
   "execution_count": null,
   "id": "3351e71a",
   "metadata": {
    "execution": {
     "iopub.execute_input": "2022-09-07T15:07:18.625Z",
     "iopub.status.busy": "2022-09-07T15:07:18.602Z",
     "iopub.status.idle": "2022-09-07T15:07:18.687Z",
     "shell.execute_reply": "2022-09-07T15:07:18.710Z"
    },
    "jupyter": {
     "outputs_hidden": false,
     "source_hidden": false
    }
   },
   "outputs": [],
   "source": []
  },
  {
   "cell_type": "code",
   "execution_count": null,
   "id": "51dfcda9",
   "metadata": {
    "execution": {
     "iopub.execute_input": "2022-09-07T15:07:19.430Z",
     "iopub.status.busy": "2022-09-07T15:07:19.406Z",
     "iopub.status.idle": "2022-09-07T15:07:19.490Z",
     "shell.execute_reply": "2022-09-07T15:07:19.515Z"
    },
    "jupyter": {
     "outputs_hidden": false,
     "source_hidden": false
    }
   },
   "outputs": [],
   "source": []
  },
  {
   "cell_type": "code",
   "execution_count": null,
   "id": "d69f509a-1686-4ddf-adda-6e62ddaf1426",
   "metadata": {
    "execution": {
     "iopub.execute_input": "2022-09-07T15:08:58.889Z",
     "iopub.status.busy": "2022-09-07T15:08:58.865Z",
     "iopub.status.idle": "2022-09-07T15:07:23.934Z",
     "shell.execute_reply": "2022-09-07T15:07:23.957Z"
    },
    "jupyter": {
     "outputs_hidden": false,
     "source_hidden": false
    },
    "nteract": {
     "transient": {
      "deleting": false
     }
    }
   },
   "outputs": [],
   "source": []
  },
  {
   "cell_type": "code",
   "execution_count": null,
   "id": "a279a5fe",
   "metadata": {
    "execution": {
     "iopub.execute_input": "2022-09-07T15:07:20.654Z",
     "iopub.status.busy": "2022-09-07T15:07:20.628Z",
     "iopub.status.idle": "2022-09-07T15:07:20.789Z",
     "shell.execute_reply": "2022-09-07T15:07:20.811Z"
    },
    "jupyter": {
     "outputs_hidden": false,
     "source_hidden": false
    }
   },
   "outputs": [],
   "source": [
    "\n",
    "\n"
   ]
  },
  {
   "cell_type": "markdown",
   "id": "db2db1a7",
   "metadata": {},
   "source": []
  },
  {
   "cell_type": "code",
   "execution_count": null,
   "id": "22ff4d47",
   "metadata": {
    "execution": {
     "iopub.execute_input": "2022-09-07T15:07:28.472Z",
     "iopub.status.busy": "2022-09-07T15:07:28.448Z",
     "iopub.status.idle": "2022-09-07T15:07:28.534Z",
     "shell.execute_reply": "2022-09-07T15:07:28.559Z"
    },
    "jupyter": {
     "outputs_hidden": false,
     "source_hidden": false
    }
   },
   "outputs": [],
   "source": []
  },
  {
   "cell_type": "code",
   "execution_count": 111,
   "id": "b98c0f43-8aa1-49da-bc7f-556a18c031af",
   "metadata": {
    "collapsed": true,
    "execution": {
     "iopub.execute_input": "2022-09-07T15:08:52.981Z",
     "iopub.status.busy": "2022-09-07T15:08:52.953Z",
     "iopub.status.idle": "2022-09-07T15:08:53.058Z",
     "shell.execute_reply": "2022-09-07T15:08:53.086Z"
    },
    "jupyter": {
     "outputs_hidden": false,
     "source_hidden": false
    },
    "nteract": {
     "transient": {
      "deleting": false
     }
    }
   },
   "outputs": [
    {
     "data": {
      "text/plain": [
       "array([[29588],\n",
       "       [10999],\n",
       "       [17795],\n",
       "       ...,\n",
       "       [49000],\n",
       "       [62499],\n",
       "       [12099]], dtype=int64)"
      ]
     },
     "execution_count": 111,
     "metadata": {},
     "output_type": "execute_result"
    }
   ],
   "source": []
  },
  {
   "cell_type": "code",
   "execution_count": null,
   "id": "fc6bce52",
   "metadata": {
    "execution": {
     "iopub.execute_input": "2022-09-07T14:21:55.910Z",
     "iopub.status.busy": "2022-09-07T14:21:55.887Z",
     "iopub.status.idle": "2022-09-07T14:21:55.949Z",
     "shell.execute_reply": "2022-09-07T15:04:49.171Z"
    },
    "jupyter": {
     "outputs_hidden": false,
     "source_hidden": false
    }
   },
   "outputs": [],
   "source": []
  },
  {
   "cell_type": "markdown",
   "id": "5b6b262d",
   "metadata": {},
   "source": []
  },
  {
   "cell_type": "code",
   "execution_count": 49,
   "id": "064edec5",
   "metadata": {
    "execution": {
     "iopub.execute_input": "2022-09-07T14:21:59.306Z",
     "iopub.status.busy": "2022-09-07T14:21:59.285Z",
     "iopub.status.idle": "2022-09-07T14:21:59.357Z",
     "shell.execute_reply": "2022-09-07T15:04:49.204Z"
    },
    "jupyter": {
     "outputs_hidden": false,
     "source_hidden": false
    }
   },
   "outputs": [],
   "source": []
  },
  {
   "cell_type": "code",
   "execution_count": 50,
   "id": "3ac502c3",
   "metadata": {
    "execution": {
     "shell.execute_reply": "2022-09-07T15:04:49.233Z"
    },
    "jupyter": {
     "outputs_hidden": false,
     "source_hidden": false
    }
   },
   "outputs": [],
   "source": []
  },
  {
   "cell_type": "code",
   "execution_count": 118,
   "id": "c97e297e",
   "metadata": {
    "execution": {
     "iopub.execute_input": "2022-09-07T20:17:01.005Z",
     "iopub.status.busy": "2022-09-07T20:17:00.979Z"
    },
    "jupyter": {
     "outputs_hidden": false,
     "source_hidden": false
    }
   },
   "outputs": [
    {
     "ename": "ModuleNotFoundError",
     "evalue": "No module named 'xgboost'",
     "output_type": "error",
     "traceback": [
      "\u001b[1;31m---------------------------------------------------------------------------\u001b[0m",
      "\u001b[1;31mModuleNotFoundError\u001b[0m                       Traceback (most recent call last)",
      "Cell \u001b[1;32mIn [118], line 1\u001b[0m\n\u001b[1;32m----> 1\u001b[0m \u001b[38;5;28;01mfrom\u001b[39;00m \u001b[38;5;21;01mxgboost\u001b[39;00m \u001b[38;5;28;01mimport\u001b[39;00m XGBRegressor\n",
      "\u001b[1;31mModuleNotFoundError\u001b[0m: No module named 'xgboost'"
     ]
    }
   ],
   "source": []
  },
  {
   "cell_type": "code",
   "execution_count": null,
   "id": "45ba4b5a",
   "metadata": {
    "jupyter": {
     "outputs_hidden": false,
     "source_hidden": false
    }
   },
   "outputs": [],
   "source": []
  },
  {
   "cell_type": "code",
   "execution_count": null,
   "id": "458de56f",
   "metadata": {
    "jupyter": {
     "outputs_hidden": false,
     "source_hidden": false
    }
   },
   "outputs": [],
   "source": []
  },
  {
   "cell_type": "code",
   "execution_count": null,
   "id": "59f124d0",
   "metadata": {
    "jupyter": {
     "outputs_hidden": false,
     "source_hidden": false
    }
   },
   "outputs": [],
   "source": []
  },
  {
   "cell_type": "code",
   "execution_count": null,
   "id": "fed32af1",
   "metadata": {
    "jupyter": {
     "outputs_hidden": false,
     "source_hidden": false
    }
   },
   "outputs": [],
   "source": []
  },
  {
   "cell_type": "code",
   "execution_count": null,
   "id": "e48a7de0",
   "metadata": {
    "jupyter": {
     "outputs_hidden": false,
     "source_hidden": false
    }
   },
   "outputs": [],
   "source": []
  },
  {
   "cell_type": "code",
   "execution_count": null,
   "id": "89c15d92",
   "metadata": {
    "jupyter": {
     "outputs_hidden": false,
     "source_hidden": false
    }
   },
   "outputs": [],
   "source": []
  },
  {
   "cell_type": "code",
   "execution_count": null,
   "id": "3d53023d",
   "metadata": {
    "jupyter": {
     "outputs_hidden": false,
     "source_hidden": false
    }
   },
   "outputs": [],
   "source": []
  }
 ],
 "metadata": {
  "kernelspec": {
   "display_name": "Python 3",
   "language": "python",
   "name": "python3"
  },
  "language_info": {
   "codemirror_mode": {
    "name": "ipython",
    "version": 3
   },
   "file_extension": ".py",
   "mimetype": "text/x-python",
   "name": "python",
   "nbconvert_exporter": "python",
   "pygments_lexer": "ipython3",
   "version": "3.8.8"
  },
  "nteract": {
   "version": "0.28.0"
  },
  "vscode": {
   "interpreter": {
    "hash": "f4110ca3e31fc3473ec64a834a627dbe9646f5d1a43ae045931a53b20ad78c84"
   }
  }
 },
 "nbformat": 4,
 "nbformat_minor": 5
}
